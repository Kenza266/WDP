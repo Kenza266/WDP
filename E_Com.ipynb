{
  "cells": [
    {
      "cell_type": "markdown",
      "metadata": {
        "id": "Dg3POAWISxKF"
      },
      "source": [
        "# Winner Determination Problem\n",
        "\n"
      ]
    },
    {
      "cell_type": "code",
      "execution_count": 2,
      "metadata": {
        "id": "LG-qhbTxRgCq"
      },
      "outputs": [],
      "source": [
        "import numpy as np\n",
        "from numpy import savetxt\n",
        "from numpy import genfromtxt\n",
        "import random\n",
        "import operator\n",
        "from math import ceil\n",
        "import matplotlib.pyplot as plt\n",
        "from tqdm import tqdm\n",
        "import time\n",
        "import warnings\n",
        "warnings.filterwarnings('ignore')"
      ]
    },
    {
      "cell_type": "code",
      "execution_count": 1,
      "metadata": {
        "id": "QVaohYIq7zNq"
      },
      "outputs": [],
      "source": [
        "class Instance():\n",
        "  class bidder:\n",
        "    def __init__(self, items, price):\n",
        "      self.items = items\n",
        "      self.price = price\n",
        "\n",
        "  def __init__(self, num_items, num_bidders, min_items, max_items, max_price):\n",
        "    self.items = np.arange(num_items)\n",
        "    self.bidders = np.array([]) \n",
        "    \n",
        "    for i in range(num_bidders):\n",
        "      self.add(np.unique(np.random.randint(0, num_items, random.randint(min_items, max_items))), random.randint(max_price/2, max_price), self.items) \n",
        "    \n",
        "    self.available_items = np.arange(num_items)\n",
        "    self.rem_bidders = np.arange(num_bidders)\n",
        "  \n",
        "  def add(self, items, price, all_items):\n",
        "    items = np.array(items)\n",
        "    if(all(x in all_items for x in items)):\n",
        "      self.bidders = np.append(self.bidders, self.bidder(items, price))\n",
        "\n",
        "  def possible_bidders(self):\n",
        "    poss_bidders = []\n",
        "    for b in self.bidders:\n",
        "      if(all(x in self.available_items for x in b.items)):\n",
        "        poss_bidders.append(np.where(self.bidders == b)[0][0])\n",
        "    return poss_bidders\n",
        "\n",
        "  def choose_bidder(self):\n",
        "    return np.random.choice(self.possible_bidders(), 1)[0]\n",
        "\n",
        "  def choose_best_bidder_Q(self):\n",
        "    return self.Q.sum(axis=0).argmax()\n",
        "\n",
        "  def update(self, bidder, prev_bidder):\n",
        "    max_index = np.where(self.Q[prev_bidder, ] == np.max(self.Q[prev_bidder, ]))[1]\n",
        "    if max_index.shape[0] > 1:\n",
        "      max_index = int(np.random.choice(max_index, size = 1))\n",
        "    else:\n",
        "      max_index = int(max_index)\n",
        "    max_value = self.Q[prev_bidder, max_index] \n",
        "\n",
        "    self.Q[prev_bidder, bidder] = self.bidders[bidder].price + self.gamma * max_value\n",
        "\n",
        "    if (np.max(self.Q) > 0):\n",
        "      return np.sum(self.Q / np.max(self.Q)*100)\n",
        "    else:\n",
        "      return 0\n",
        "\n",
        "  def train(self, epochs, early=True, gamma=0.4, e=1e-8, stable=10):\n",
        "    self.Q = np.matrix(np.zeros([len(self.bidders), len(self.bidders)])) \n",
        "    self.gamma = gamma\n",
        "    scores = []\n",
        "    for i in tqdm(range(epochs)): \n",
        "      sum = 0\n",
        "      self.available_items = self.items\n",
        "      self.rem_bidders = np.arange(len(self.bidders))\n",
        "      bidder = self.choose_bidder()\n",
        "      scores.append(np.sum(self.Q / np.max(self.Q)*100) if (np.max(self.Q) > 0) else 0) \n",
        "      prev_bidder = bidder \n",
        "      self.rem_bidders = np.array([b for b in self.rem_bidders if b != bidder])\n",
        "      self.available_items = np.array([i for i in self.available_items if i not in self.bidders[bidder].items])\n",
        "      while(len(self.possible_bidders()) > 0):\n",
        "        bidder = self.choose_bidder()\n",
        "        score = self.update(bidder, prev_bidder)\n",
        "        prev_bidder = bidder\n",
        "        self.rem_bidders = np.array([b for b in self.rem_bidders if b != bidder])\n",
        "        self.available_items = np.array([i for i in self.available_items if i not in self.bidders[bidder].items])\n",
        "        if(early and self.early_stop(scores, e, ceil(epochs/stable))):\n",
        "          return scores\n",
        "        scores.append(score)    \n",
        "    return scores\n",
        "\n",
        "  def early_stop(self, scores, e, stable=50):\n",
        "    if(len(scores) < stable):\n",
        "      return False\n",
        "    return ((scores[-stable] - scores[-1])**2 < e)\n",
        "\n",
        "  def load(self, q_matrix):\n",
        "    if(len(self.bidders) <= q_matrix.shape[0]):\n",
        "      self.Q = q_matrix\n",
        "    else:\n",
        "      print(\"Max number of bidders reached\")\n",
        "\n",
        "  def evaluate(self):\n",
        "    sum = 0\n",
        "    winners = []\n",
        "    self.available_items = self.items\n",
        "    self.rem_bidders = np.arange(len(self.bidders))\n",
        "\n",
        "    bidder = self.choose_best_bidder_Q()\n",
        "    winners.append(bidder)\n",
        "    prev_bidder = bidder\n",
        "    sum += self.bidders[bidder].price \n",
        "\n",
        "    self.rem_bidders = np.array([b for b in self.rem_bidders if b != bidder])\n",
        "    self.available_items = np.array([i for i in self.available_items if i not in self.bidders[bidder].items])\n",
        "\n",
        "    while (len(self.possible_bidders()) > 0):\n",
        "      possible_bidders_scores = {b: self.Q[prev_bidder, b] for b in self.possible_bidders()}\n",
        "      bidder = max(possible_bidders_scores.items(), key=operator.itemgetter(1))[0]\n",
        "      winners.append(bidder)\n",
        "      prev_bidder = bidder\n",
        "      sum += self.bidders[bidder].price\n",
        "      self.rem_bidders = np.array([b for b in self.rem_bidders if b != bidder])\n",
        "      self.available_items = np.array([i for i in self.available_items if i not in self.bidders[bidder].items])\n",
        "    return winners, sum\n",
        "\n",
        "  def run(self, epochs=1000, stable=100, early=10):\n",
        "    history = [] \n",
        "    tl = []\n",
        "    best_solution = [[], 0]\n",
        "    for i in tqdm(range(epochs)):\n",
        "      self.available_items = self.items\n",
        "      self.rem_bidders = np.arange(len(self.bidders))\n",
        "      solution = [[], 0]\n",
        "      possible = [b for b in self.possible_bidders() if solution[0]+[b] not in tl]\n",
        "      possible = sorted(possible, key=lambda x: self.bidders[x].price, reverse=True) \n",
        "      while(len(possible) != 0):\n",
        "        bidder = possible[0] \n",
        "        self.rem_bidders = np.array([b for b in self.rem_bidders if b != bidder])\n",
        "        self.available_items = np.array([i for i in self.available_items if i not in self.bidders[bidder].items])\n",
        "        solution[0].append(bidder)\n",
        "        solution[1] += self.bidders[bidder].price\n",
        "        history.append(best_solution[1])\n",
        "        tl.append(solution[0])\n",
        "        if(solution[1] > best_solution[1]):\n",
        "          best_solution = solution.copy()\n",
        "          best_i = i\n",
        "        if(self.early_stop(history, ceil(epochs/stable))): \n",
        "          self.available_items = self.items\n",
        "          self.rem_bidders = np.arange(len(self.bidders))\n",
        "          possible = [b for b in self.possible_bidders() if solution[0]+[b] not in tl]\n",
        "          possible = sorted(possible, key=lambda x: self.bidders[x].price, reverse=True) \n",
        "          bidder = possible[0] \n",
        "          self.rem_bidders = np.array([b for b in self.rem_bidders if b != bidder])\n",
        "          self.available_items = np.array([i for i in self.available_items if i not in self.bidders[bidder].items])\n",
        "          solution = [[bidder], self.bidders[bidder].price]\n",
        "          tl.append(solution[0])\n",
        "        possible = [b for b in self.possible_bidders() if solution[0]+[b] not in tl]\n",
        "        possible = sorted(possible, key=lambda x: self.bidders[x].price, reverse=True) \n",
        "      if(self.early_stop(history, ceil(epochs/early))):\n",
        "        return history, best_solution \n",
        "    return history, best_solution"
      ]
    },
    {
      "cell_type": "markdown",
      "metadata": {
        "id": "X4uHGxqDUpla"
      },
      "source": [
        "# Training for the QL"
      ]
    },
    {
      "cell_type": "code",
      "execution_count": 62,
      "metadata": {
        "colab": {
          "base_uri": "https://localhost:8080/"
        },
        "id": "o6S5xrSH_OIK",
        "outputId": "45a4985a-f558-4b99-fefe-be3a4127e419"
      },
      "outputs": [
        {
          "name": "stderr",
          "output_type": "stream",
          "text": [
            " 60%|█████▉    | 893/1500 [00:46<00:31, 19.31it/s]\n",
            "100%|██████████| 1500/1500 [01:13<00:00, 20.47it/s]\n"
          ]
        }
      ],
      "source": [
        "solver = Instance(4000, 10, 60, 60, 2000) \n",
        "early_stoped = solver.train(1500)\n",
        "regular = solver.train(1500, early=False) "
      ]
    },
    {
      "cell_type": "markdown",
      "metadata": {},
      "source": [
        "Showcase of the early stop technique"
      ]
    },
    {
      "cell_type": "code",
      "execution_count": 90,
      "metadata": {
        "colab": {
          "base_uri": "https://localhost:8080/",
          "height": 295
        },
        "id": "3VDGUObh_OIL",
        "outputId": "ab57bd16-a44a-44b6-80b9-1fb4b71499b2"
      },
      "outputs": [
        {
          "data": {
            "image/png": "[encoded data removed]",
            "text/plain": [
              "<Figure size 432x288 with 1 Axes>"
            ]
          },
          "metadata": {
            "needs_background": "light"
          },
          "output_type": "display_data"
        }
      ],
      "source": [
        "plt.plot(regular, color='orange', label='Regular') \n",
        "plt.plot(early_stoped, color='#ff3236', label='Early stop') \n",
        "plt.scatter(len(early_stoped), early_stoped[-1], marker='x', color='#ff3236')\n",
        "plt.plot([len(early_stoped) for i in range(0, ceil(early_stoped[-1]))], range(0, ceil(early_stoped[-1])), color='#ff3236', linestyle='--')\n",
        "plt.legend()\n",
        "plt.xlabel('No of iterations') \n",
        "plt.ylabel('Reward gained')\n",
        "plt.title('Evolution of the reward gained')\n",
        "plt.show() "
      ]
    },
    {
      "cell_type": "markdown",
      "metadata": {
        "id": "H9z54uFJUrvW"
      },
      "source": [
        "## Saving/Loading model"
      ]
    },
    {
      "cell_type": "markdown",
      "metadata": {
        "id": "cidfZVKsX1iD"
      },
      "source": [
        "Save"
      ]
    },
    {
      "cell_type": "code",
      "execution_count": null,
      "metadata": {
        "id": "9drCYAs0-dgV"
      },
      "outputs": [],
      "source": [
        "savetxt('Q_table.csv', solver.Q, delimiter=',') "
      ]
    },
    {
      "cell_type": "code",
      "execution_count": null,
      "metadata": {
        "colab": {
          "base_uri": "https://localhost:8080/"
        },
        "id": "qGJfHUCh-dV4",
        "outputId": "efbc0ca1-42b2-4df4-ea3b-3b6d430b4cf5"
      },
      "outputs": [
        {
          "data": {
            "text/plain": [
              "(500, 500)"
            ]
          },
          "execution_count": 76,
          "metadata": {},
          "output_type": "execute_result"
        }
      ],
      "source": [
        "Q_table = genfromtxt('Q_table.csv', delimiter=',') \n",
        "Q_table.shape"
      ]
    },
    {
      "cell_type": "markdown",
      "metadata": {
        "id": "DNgpNibfX3Me"
      },
      "source": [
        "Load"
      ]
    },
    {
      "cell_type": "code",
      "execution_count": null,
      "metadata": {
        "id": "XZZqgJY_VHYZ"
      },
      "outputs": [],
      "source": [
        "solver = Instance(1000, 400, 80, 2000) \n",
        "solver.load(Q_table) "
      ]
    },
    {
      "cell_type": "markdown",
      "metadata": {
        "id": "YM4UxjUvUw-w"
      },
      "source": [
        "## Testing model"
      ]
    },
    {
      "cell_type": "code",
      "execution_count": 91,
      "metadata": {
        "colab": {
          "base_uri": "https://localhost:8080/"
        },
        "id": "PsuVPgOJZM61",
        "outputId": "bc16d4a1-0324-4bc0-cf1e-7e27017d28c8"
      },
      "outputs": [
        {
          "data": {
            "text/plain": [
              "(3, 3942)"
            ]
          },
          "execution_count": 91,
          "metadata": {},
          "output_type": "execute_result"
        }
      ],
      "source": [
        "winners, gain = solver.evaluate()\n",
        "len(winners), gain "
      ]
    },
    {
      "cell_type": "markdown",
      "metadata": {},
      "source": [
        "In this case we have 3 winning bids, the total gain is 3942"
      ]
    },
    {
      "cell_type": "code",
      "execution_count": 92,
      "metadata": {
        "colab": {
          "base_uri": "https://localhost:8080/"
        },
        "id": "KHuYkPox0mcr",
        "outputId": "adcea7e5-98f3-4014-88bc-357c7dcbdd71"
      },
      "outputs": [
        {
          "data": {
            "text/plain": [
              "(180, 180)"
            ]
          },
          "execution_count": 92,
          "metadata": {},
          "output_type": "execute_result"
        }
      ],
      "source": [
        "sold_items = [] \n",
        "for w in winners:\n",
        "  sold_items += solver.bidders[w].items.tolist()\n",
        "len(sold_items), np.unique(sold_items).size "
      ]
    },
    {
      "cell_type": "markdown",
      "metadata": {
        "id": "-UNUBAUOyyKU"
      },
      "source": [
        "No conflicy between winning bids"
      ]
    },
    {
      "cell_type": "markdown",
      "metadata": {
        "id": "B7Oeiq2sIGb5"
      },
      "source": [
        "# Brute force"
      ]
    },
    {
      "cell_type": "code",
      "execution_count": 4,
      "metadata": {
        "id": "sQi3By4PV8KC"
      },
      "outputs": [],
      "source": [
        "def brute_force(sum, winner, av_bidders, av_items):\n",
        "  for b in av_bidders:\n",
        "    if (all(x in av_items for x in b.items)):\n",
        "      brute_force(sum + b.price, winner + 1,\n",
        "                  np.array([i for i in av_bidders if i != b]), \n",
        "                  np.array([i for i in av_items if i not in b.items]))\n",
        "  gains.append(sum)\n",
        "  winners.append(winner)"
      ]
    },
    {
      "cell_type": "code",
      "execution_count": 5,
      "metadata": {
        "id": "r_w37czurdsY"
      },
      "outputs": [],
      "source": [
        "def WDP(av_bidders, av_items): \n",
        "  brute_force(0, 0, av_bidders, av_items) \n",
        "  return np.max(np.array(winners)[np.where(np.array(gains) == np.max(np.array(gains)))]), np.max(np.array(gains))"
      ]
    },
    {
      "cell_type": "code",
      "execution_count": 95,
      "metadata": {
        "colab": {
          "base_uri": "https://localhost:8080/"
        },
        "id": "kKQhXJav1OG1",
        "outputId": "5b4759f7-b08f-4f3e-cc3d-13841e84b03c"
      },
      "outputs": [
        {
          "data": {
            "text/plain": [
              "(3, 3942)"
            ]
          },
          "execution_count": 95,
          "metadata": {},
          "output_type": "execute_result"
        }
      ],
      "source": [
        "gains, winners = [], []\n",
        "WDP(solver.bidders, solver.items)"
      ]
    },
    {
      "cell_type": "markdown",
      "metadata": {
        "id": "YnFicziKzUyw"
      },
      "source": [
        "The solution of this instance contains 3 bidders and the total gain is 3942"
      ]
    },
    {
      "cell_type": "markdown",
      "metadata": {
        "id": "weKUObFvydDe"
      },
      "source": [
        "## Evaluate the time complexity of the brute force"
      ]
    },
    {
      "cell_type": "code",
      "execution_count": 96,
      "metadata": {
        "id": "0Lb1rYSQKppj"
      },
      "outputs": [],
      "source": [
        "def evaluate_brute_force(nb_items, min_items, max_items, nb_bidders):\n",
        "  times = [] \n",
        "  for nb_bidders in tqdm(range(1, nb_bidders)):\n",
        "    solver = Instance(nb_items, nb_bidders, min_items, max_items, 2000) \n",
        "    gains, winners = [], []\n",
        "    start_time = time.time() \n",
        "    WDP(solver.bidders, solver.items) \n",
        "    times.append((time.time() - start_time)) \n",
        "  return times"
      ]
    },
    {
      "cell_type": "code",
      "execution_count": 102,
      "metadata": {
        "colab": {
          "base_uri": "https://localhost:8080/",
          "height": 312
        },
        "id": "U_6eleqVKW7o",
        "outputId": "4490fe5f-f3f4-4a48-c83a-a7ae0bd56260"
      },
      "outputs": [
        {
          "name": "stderr",
          "output_type": "stream",
          "text": [
            "100%|██████████| 11/11 [07:20<00:00, 40.08s/it]\n"
          ]
        },
        {
          "data": {
            "image/png": "[encoded data removed]",
            "text/plain": [
              "<Figure size 432x288 with 1 Axes>"
            ]
          },
          "metadata": {
            "needs_background": "light"
          },
          "output_type": "display_data"
        }
      ],
      "source": [
        "nb_items = 100\n",
        "min_items = 2\n",
        "max_items = 5\n",
        "\n",
        "plt.plot(range(1, 12), evaluate_brute_force(nb_items, min_items, max_items, 12), color='#ff3236')\n",
        "plt.title('Exec time for brute force approch')\n",
        "plt.xlabel('Nb bidders') \n",
        "plt.ylabel('Exec time (s)')\n",
        "plt.show()"
      ]
    },
    {
      "cell_type": "code",
      "execution_count": 104,
      "metadata": {
        "colab": {
          "base_uri": "https://localhost:8080/",
          "height": 312
        },
        "id": "98jzfwBsBTSJ",
        "outputId": "8c35ae74-fa8f-4c68-a227-81b0e6c869ec"
      },
      "outputs": [
        {
          "name": "stderr",
          "output_type": "stream",
          "text": [
            "100%|██████████| 9/9 [02:15<00:00, 15.01s/it]\n"
          ]
        },
        {
          "data": {
            "image/png": "[encoded data removed]",
            "text/plain": [
              "<Figure size 432x288 with 1 Axes>"
            ]
          },
          "metadata": {
            "needs_background": "light"
          },
          "output_type": "display_data"
        }
      ],
      "source": [
        "nb_items = 1000 \n",
        "min_items = 5\n",
        "max_items = 10\n",
        "\n",
        "plt.plot(range(1, 10), evaluate_brute_force(nb_items, min_items, max_items, 10), color='#ff3236')\n",
        "plt.title('Exec time for brute force approch')\n",
        "plt.xlabel('Nb bidders') \n",
        "plt.ylabel('Exec time (s)')\n",
        "plt.show()"
      ]
    },
    {
      "cell_type": "markdown",
      "metadata": {},
      "source": [
        "The complexity is clearly exponential with an explosion arround 7-9 bidders"
      ]
    },
    {
      "cell_type": "markdown",
      "metadata": {
        "id": "awuzSZZr5mLA"
      },
      "source": [
        "# Q Learning"
      ]
    },
    {
      "cell_type": "markdown",
      "metadata": {
        "id": "F6S0efVCzp_h"
      },
      "source": [
        "## Influence of the number of items per bid on the exec time using brute force"
      ]
    },
    {
      "cell_type": "code",
      "execution_count": null,
      "metadata": {
        "colab": {
          "base_uri": "https://localhost:8080/",
          "height": 347
        },
        "id": "1usMjqTUvrJr",
        "outputId": "dd5722da-04c4-479d-cebc-921d28420e45"
      },
      "outputs": [
        {
          "name": "stderr",
          "output_type": "stream",
          "text": [
            "100%|██████████| 49/49 [01:36<00:00,  1.96s/it]\n",
            "100%|██████████| 49/49 [01:41<00:00,  2.08s/it]\n",
            "100%|██████████| 49/49 [04:26<00:00,  5.44s/it]\n"
          ]
        },
        {
          "data": {
            "image/png": "[encoded data removed]",
            "text/plain": [
              "<Figure size 432x288 with 1 Axes>"
            ]
          },
          "metadata": {},
          "output_type": "display_data"
        }
      ],
      "source": [
        "nb_items = 5000\n",
        "x = 50\n",
        "plt.plot(range(1, x), evaluate_brute_force(nb_items, 4600, 4600, x), color='purple', label='4600') \n",
        "plt.plot(range(1, x), evaluate_brute_force(nb_items, 120, 120, x), color='orange', label='120') \n",
        "plt.plot(range(1, x), evaluate_brute_force(nb_items, 100, 100, x), color='#ff3632', label='100') \n",
        "plt.title('Exec time for brute force approch') \n",
        "plt.xlabel('Number of bids')\n",
        "plt.ylabel('Exec time (s)') \n",
        "plt.legend()\n",
        "plt.show()"
      ]
    },
    {
      "cell_type": "code",
      "execution_count": null,
      "metadata": {
        "colab": {
          "base_uri": "https://localhost:8080/",
          "height": 347
        },
        "id": "GofHApXhv9fM",
        "outputId": "9773c5f2-b3ad-44b5-e4fd-bc5a05343410"
      },
      "outputs": [
        {
          "name": "stderr",
          "output_type": "stream",
          "text": [
            "100%|██████████| 59/59 [02:06<00:00,  2.14s/it]\n",
            "100%|██████████| 59/59 [02:57<00:00,  3.01s/it]\n",
            "100%|██████████| 59/59 [08:02<00:00,  8.17s/it]\n"
          ]
        },
        {
          "data": {
            "image/png": "[encoded data removed]",
            "text/plain": [
              "<Figure size 432x288 with 1 Axes>"
            ]
          },
          "metadata": {},
          "output_type": "display_data"
        }
      ],
      "source": [
        "nb_items = 5000\n",
        "x = 60\n",
        "plt.plot(range(1, x), evaluate_brute_force(nb_items, 4600, 4600, x), color='purple', label='4600') \n",
        "plt.plot(range(1, x), evaluate_brute_force(nb_items, 120, 120, x), color='orange', label='120') \n",
        "plt.plot(range(1, x), evaluate_brute_force(nb_items, 100, 100, x), color='#ff3632', label='100') \n",
        "plt.title('Exec time for brute force approch') \n",
        "plt.xlabel('Number of bids')\n",
        "plt.ylabel('Exec time (s)') \n",
        "plt.legend()\n",
        "plt.show()"
      ]
    },
    {
      "cell_type": "markdown",
      "metadata": {},
      "source": [
        "The exec time is anti-proportional to the nimber of objects per bid"
      ]
    },
    {
      "cell_type": "markdown",
      "metadata": {
        "id": "o2s47aYE-q-z"
      },
      "source": [
        "## Influence of the value of gamma"
      ]
    },
    {
      "cell_type": "markdown",
      "metadata": {},
      "source": [
        "The gamma can be considered as a learning rate, and influences the speed and quality of the convergence of the model"
      ]
    },
    {
      "cell_type": "code",
      "execution_count": 133,
      "metadata": {
        "colab": {
          "base_uri": "https://localhost:8080/"
        },
        "id": "2f5UjZLy-3Kd",
        "outputId": "a2d8d8f8-b801-4d94-fe9f-7085f80c65e0"
      },
      "outputs": [
        {
          "name": "stdout",
          "output_type": "stream",
          "text": [
            "BF 5 8219 39.82036995887756\n"
          ]
        }
      ],
      "source": [
        "solver = Instance(4000, 15, 50, 50, 2000) \n",
        "gains, winners = [], [] \n",
        "start_time = time.time() \n",
        "w_BF, g_BF = WDP(solver.bidders, solver.items) \n",
        "print('BF', w_BF, g_BF, time.time() - start_time)"
      ]
    },
    {
      "cell_type": "code",
      "execution_count": 134,
      "metadata": {
        "colab": {
          "base_uri": "https://localhost:8080/",
          "height": 503
        },
        "id": "-WeRvC05I2Bp",
        "outputId": "13bf0f17-2392-47f8-8ea8-dfc1262d8fbb"
      },
      "outputs": [
        {
          "name": "stderr",
          "output_type": "stream",
          "text": [
            " 94%|█████████▍| 4721/5000 [06:38<00:23, 11.86it/s]\n"
          ]
        },
        {
          "name": "stdout",
          "output_type": "stream",
          "text": [
            "gamma =  0.9 \n",
            " 5 7402 398.1462426185608\n",
            "\n"
          ]
        },
        {
          "name": "stderr",
          "output_type": "stream",
          "text": [
            " 15%|█▍        | 730/5000 [01:00<05:54, 12.06it/s]\n"
          ]
        },
        {
          "name": "stdout",
          "output_type": "stream",
          "text": [
            "gamma =  0.4 \n",
            " 5 8219 60.644914627075195\n",
            "\n"
          ]
        },
        {
          "name": "stderr",
          "output_type": "stream",
          "text": [
            "  7%|▋         | 355/5000 [00:29<06:23, 12.11it/s]\n"
          ]
        },
        {
          "name": "stdout",
          "output_type": "stream",
          "text": [
            "gamma =  0.1 \n",
            " 5 8219 29.410644054412842\n",
            "\n"
          ]
        },
        {
          "data": {
            "image/png": "[encoded data removed]",
            "text/plain": [
              "<Figure size 432x288 with 1 Axes>"
            ]
          },
          "metadata": {
            "needs_background": "light"
          },
          "output_type": "display_data"
        }
      ],
      "source": [
        "for g, c in zip((9,4,1), ('orange', 'purple', '#ff3236')):\n",
        "  start_time = time.time() \n",
        "  scores = solver.train(5000, gamma=g/10, stable=100) \n",
        "  w_Q, g_Q = solver.evaluate() \n",
        "  t = time.time() - start_time \n",
        "  plt.plot(scores, color=c, label=str(g)) \n",
        "  plt.scatter(len(scores), scores[-1], marker='x', color=c)\n",
        "  print('gamma = ', g/10, '\\n', len(w_Q), g_Q, t)\n",
        "  print()\n",
        "plt.xlabel('No of iterations') \n",
        "plt.ylabel('Reward gained')\n",
        "plt.title('Evolution of the reward gained')\n",
        "plt.legend() \n",
        "plt.show()"
      ]
    },
    {
      "cell_type": "markdown",
      "metadata": {
        "id": "oH1Ig59oN__T"
      },
      "source": [
        "We choose a gamma of 0.4 which gives the best result in the shortest time, with a good convergence"
      ]
    },
    {
      "cell_type": "markdown",
      "metadata": {
        "id": "wUKtIRhz7dba"
      },
      "source": [
        "## Validate the results"
      ]
    },
    {
      "cell_type": "code",
      "execution_count": 136,
      "metadata": {
        "colab": {
          "base_uri": "https://localhost:8080/",
          "height": 1000
        },
        "id": "RkFo9Ildi9id",
        "outputId": "e0d1e52f-8dc6-4e34-95e1-5d8a3367ea04"
      },
      "outputs": [
        {
          "name": "stdout",
          "output_type": "stream",
          "text": [
            "Number of bidders = 3\n"
          ]
        },
        {
          "name": "stderr",
          "output_type": "stream",
          "text": [
            "  4%|▍         | 263/6000 [00:03<01:14, 77.21it/s]\n"
          ]
        },
        {
          "data": {
            "image/png": "[encoded data removed]",
            "text/plain": [
              "<Figure size 360x252 with 1 Axes>"
            ]
          },
          "metadata": {
            "needs_background": "light"
          },
          "output_type": "display_data"
        },
        {
          "name": "stdout",
          "output_type": "stream",
          "text": [
            "QL: 3 5014 3.689542055130005 \n",
            "BF: 3 5014 0.1873455047607422\n",
            "\n",
            "Number of bidders = 4\n"
          ]
        },
        {
          "name": "stderr",
          "output_type": "stream",
          "text": [
            "  6%|▋         | 382/6000 [00:05<01:23, 67.61it/s]\n"
          ]
        },
        {
          "data": {
            "image/png": "[encoded data removed]",
            "text/plain": [
              "<Figure size 360x252 with 1 Axes>"
            ]
          },
          "metadata": {
            "needs_background": "light"
          },
          "output_type": "display_data"
        },
        {
          "name": "stdout",
          "output_type": "stream",
          "text": [
            "QL: 3 4267 5.846948146820068 \n",
            "BF: 3 4267 0.09521317481994629\n",
            "\n",
            "Number of bidders = 5\n"
          ]
        },
        {
          "name": "stderr",
          "output_type": "stream",
          "text": [
            "  6%|▌         | 356/6000 [00:04<01:16, 73.75it/s]\n"
          ]
        },
        {
          "data": {
            "image/png": "[encoded data removed]",
            "text/plain": [
              "<Figure size 360x252 with 1 Axes>"
            ]
          },
          "metadata": {
            "needs_background": "light"
          },
          "output_type": "display_data"
        },
        {
          "name": "stdout",
          "output_type": "stream",
          "text": [
            "QL: 3 4076 4.998236894607544 \n",
            "BF: 3 4076 0.13542723655700684\n",
            "\n",
            "Number of bidders = 6\n"
          ]
        },
        {
          "name": "stderr",
          "output_type": "stream",
          "text": [
            "  8%|▊         | 452/6000 [00:06<01:13, 74.99it/s]\n"
          ]
        },
        {
          "data": {
            "image/png": "[encoded data removed]",
            "text/plain": [
              "<Figure size 360x252 with 1 Axes>"
            ]
          },
          "metadata": {
            "needs_background": "light"
          },
          "output_type": "display_data"
        },
        {
          "name": "stdout",
          "output_type": "stream",
          "text": [
            "QL: 3 4567 6.202669620513916 \n",
            "BF: 3 4801 0.17231965065002441\n",
            "\n",
            "Number of bidders = 7\n"
          ]
        },
        {
          "name": "stderr",
          "output_type": "stream",
          "text": [
            "  8%|▊         | 499/6000 [00:08<01:37, 56.60it/s]\n"
          ]
        },
        {
          "data": {
            "image/png": "[encoded data removed]",
            "text/plain": [
              "<Figure size 360x252 with 1 Axes>"
            ]
          },
          "metadata": {
            "needs_background": "light"
          },
          "output_type": "display_data"
        },
        {
          "name": "stdout",
          "output_type": "stream",
          "text": [
            "QL: 4 6210 8.9844069480896 \n",
            "BF: 4 6210 0.711423397064209\n",
            "\n",
            "Number of bidders = 8\n"
          ]
        },
        {
          "name": "stderr",
          "output_type": "stream",
          "text": [
            " 11%|█▏        | 688/6000 [00:11<01:27, 60.99it/s]\n"
          ]
        },
        {
          "data": {
            "image/png": "[encoded data removed]",
            "text/plain": [
              "<Figure size 360x252 with 1 Axes>"
            ]
          },
          "metadata": {
            "needs_background": "light"
          },
          "output_type": "display_data"
        },
        {
          "name": "stdout",
          "output_type": "stream",
          "text": [
            "QL: 3 5031 11.452131271362305 \n",
            "BF: 4 5866 0.5682427883148193\n",
            "\n",
            "Number of bidders = 9\n"
          ]
        },
        {
          "name": "stderr",
          "output_type": "stream",
          "text": [
            " 11%|█▏        | 686/6000 [00:15<02:00, 43.93it/s]\n"
          ]
        },
        {
          "data": {
            "image/png": "[encoded data removed]",
            "text/plain": [
              "<Figure size 360x252 with 1 Axes>"
            ]
          },
          "metadata": {
            "needs_background": "light"
          },
          "output_type": "display_data"
        },
        {
          "name": "stdout",
          "output_type": "stream",
          "text": [
            "QL: 5 9018 15.801754474639893 \n",
            "BF: 5 9018 4.1623780727386475\n",
            "\n",
            "Number of bidders = 10\n"
          ]
        },
        {
          "name": "stderr",
          "output_type": "stream",
          "text": [
            " 12%|█▏        | 703/6000 [00:13<01:44, 50.68it/s]\n"
          ]
        },
        {
          "data": {
            "image/png": "[encoded data removed]",
            "text/plain": [
              "<Figure size 360x252 with 1 Axes>"
            ]
          },
          "metadata": {
            "needs_background": "light"
          },
          "output_type": "display_data"
        },
        {
          "name": "stdout",
          "output_type": "stream",
          "text": [
            "QL: 4 6619 14.159629106521606 \n",
            "BF: 5 7814 2.215879440307617\n",
            "\n",
            "Number of bidders = 11\n"
          ]
        },
        {
          "name": "stderr",
          "output_type": "stream",
          "text": [
            " 14%|█▎        | 818/6000 [00:18<01:54, 45.25it/s]\n"
          ]
        },
        {
          "data": {
            "image/png": "[encoded data removed]",
            "text/plain": [
              "<Figure size 360x252 with 1 Axes>"
            ]
          },
          "metadata": {
            "needs_background": "light"
          },
          "output_type": "display_data"
        },
        {
          "name": "stdout",
          "output_type": "stream",
          "text": [
            "QL: 3 5003 18.25729203224182 \n",
            "BF: 5 8171 4.924060106277466\n",
            "\n",
            "Number of bidders = 12\n"
          ]
        },
        {
          "name": "stderr",
          "output_type": "stream",
          "text": [
            " 17%|█▋        | 1035/6000 [00:24<01:55, 43.06it/s]\n"
          ]
        },
        {
          "data": {
            "image/png": "[encoded data removed]",
            "text/plain": [
              "<Figure size 360x252 with 1 Axes>"
            ]
          },
          "metadata": {
            "needs_background": "light"
          },
          "output_type": "display_data"
        },
        {
          "name": "stdout",
          "output_type": "stream",
          "text": [
            "QL: 5 7562 24.22428011894226 \n",
            "BF: 5 7562 4.810287714004517\n",
            "\n"
          ]
        }
      ],
      "source": [
        "time_brute_force = [] \n",
        "time_q_learning = []\n",
        "for nb_bidders in range(3, 13):\n",
        "  print('Number of bidders =', nb_bidders)\n",
        "  solver = Instance(1000, nb_bidders, 20, 20, 2000) \n",
        "  start_time = time.time() \n",
        "  scores = solver.train(6000)\n",
        "  plt.figure(figsize=(5, 3.5))   \n",
        "  plt.plot(scores, color='orange') \n",
        "  plt.xlabel('No of iterations') \n",
        "  plt.ylabel('Reward gained')\n",
        "  plt.title('Evolution of the reward gained')\n",
        "  plt.show()\n",
        "  w_Q, g_Q = solver.evaluate() \n",
        "  t_Q = time.time() - start_time\n",
        "  time_q_learning.append(t_Q) \n",
        "\n",
        "  gains, winners = [], []\n",
        "  start_time = time.time() \n",
        "  w_BF, g_BF = WDP(solver.bidders, solver.items) \n",
        "  t_BF = time.time() - start_time\n",
        "  time_brute_force.append(t_BF) \n",
        "\n",
        "  print('QL:', len(w_Q), g_Q, t_Q, '\\nBF:', w_BF, g_BF, t_BF)\n",
        "  print()"
      ]
    },
    {
      "cell_type": "markdown",
      "metadata": {
        "id": "vzirLkjN7luW"
      },
      "source": [
        "## Compare the time complexity"
      ]
    },
    {
      "cell_type": "markdown",
      "metadata": {
        "id": "ejJiYz071pJ5"
      },
      "source": [
        "Plots of multiple intances of 1000 objects, 10 items per bid and a variable nummber of bidders"
      ]
    },
    {
      "cell_type": "code",
      "execution_count": null,
      "metadata": {
        "colab": {
          "base_uri": "https://localhost:8080/",
          "height": 281
        },
        "id": "Kfi3mGOd0Zx2",
        "outputId": "6990f0d6-dbad-4c40-d458-419473f2fb65"
      },
      "outputs": [
        {
          "data": {
            "image/png": "[encoded data removed]",
            "text/plain": [
              "<Figure size 432x288 with 1 Axes>"
            ]
          },
          "metadata": {},
          "output_type": "display_data"
        }
      ],
      "source": [
        "plt.scatter(range(len(time_q_learning)), time_q_learning, color='orange', label='QLearning')\n",
        "plt.scatter(range(len(time_brute_force)), time_brute_force, color='#ff3632', label='Brute force')\n",
        "plt.legend() \n",
        "plt.title('Exec time comparison')\n",
        "plt.show() "
      ]
    },
    {
      "cell_type": "code",
      "execution_count": null,
      "metadata": {
        "colab": {
          "base_uri": "https://localhost:8080/",
          "height": 281
        },
        "id": "kH-nl90mfwvf",
        "outputId": "e9f7e4f5-9bd5-43a6-e915-4dbd62ef1fa5"
      },
      "outputs": [
        {
          "data": {
            "image/png": "[encoded data removed]",
            "text/plain": [
              "<Figure size 432x288 with 1 Axes>"
            ]
          },
          "metadata": {},
          "output_type": "display_data"
        }
      ],
      "source": [
        "plt.scatter(range(len(time_q_learning)), time_q_learning, color='orange', label='QLearning')\n",
        "plt.scatter(range(len(time_brute_force)), time_brute_force, color='#ff3632', label='Brute force')\n",
        "plt.legend() \n",
        "plt.title('Exec time comparison')\n",
        "plt.show() "
      ]
    },
    {
      "cell_type": "code",
      "execution_count": null,
      "metadata": {
        "colab": {
          "base_uri": "https://localhost:8080/",
          "height": 281
        },
        "id": "AEu_nBJlV4Zd",
        "outputId": "cd242f70-05fd-470b-9569-3ebbdd5b3b52"
      },
      "outputs": [
        {
          "data": {
            "image/png": "[encoded data removed]",
            "text/plain": [
              "<Figure size 432x288 with 1 Axes>"
            ]
          },
          "metadata": {},
          "output_type": "display_data"
        }
      ],
      "source": [
        "plt.scatter(range(len(time_q_learning)), time_q_learning, color='orange', label='QLearning')\n",
        "plt.scatter(range(len(time_brute_force)), time_brute_force, color='#ff3632', label='Brute force')\n",
        "plt.legend() \n",
        "plt.title('Exec time comparison')\n",
        "plt.show() "
      ]
    },
    {
      "cell_type": "code",
      "execution_count": null,
      "metadata": {
        "colab": {
          "base_uri": "https://localhost:8080/",
          "height": 281
        },
        "id": "TzWSIizYFEG4",
        "outputId": "0e687936-8445-433d-8b2f-2dc500f02467"
      },
      "outputs": [
        {
          "data": {
            "image/png": "[encoded data removed]",
            "text/plain": [
              "<Figure size 432x288 with 1 Axes>"
            ]
          },
          "metadata": {},
          "output_type": "display_data"
        }
      ],
      "source": [
        "plt.scatter(range(len(time_q_learning)), time_q_learning, color='orange', label='QLearning')\n",
        "plt.scatter(range(len(time_brute_force)), time_brute_force, color='#ff3632', label='Brute force')\n",
        "plt.legend() \n",
        "plt.title('Exec time comparison')\n",
        "plt.show() "
      ]
    },
    {
      "cell_type": "code",
      "execution_count": null,
      "metadata": {
        "colab": {
          "base_uri": "https://localhost:8080/",
          "height": 281
        },
        "id": "EAJrpmiVrW04",
        "outputId": "0d2741d3-9cb4-4d85-949e-648d38a82aa3"
      },
      "outputs": [
        {
          "data": {
            "image/png": "[encoded data removed]",
            "text/plain": [
              "<Figure size 432x288 with 1 Axes>"
            ]
          },
          "metadata": {},
          "output_type": "display_data"
        }
      ],
      "source": [
        "plt.scatter(range(len(time_q_learning)), time_q_learning, color='orange', label='QLearning')\n",
        "plt.scatter(range(len(time_brute_force)), time_brute_force, color='#ff3632', label='Brute force')\n",
        "plt.legend() \n",
        "plt.title('Exec time comparison')\n",
        "plt.show()"
      ]
    },
    {
      "cell_type": "markdown",
      "metadata": {
        "id": "qviBpAd99yae"
      },
      "source": [
        "## Trivial cases"
      ]
    },
    {
      "cell_type": "code",
      "execution_count": 141,
      "metadata": {
        "colab": {
          "base_uri": "https://localhost:8080/"
        },
        "id": "4qUGY5m7lW1X",
        "outputId": "74f9994b-547a-469c-f19f-be3588347e08"
      },
      "outputs": [
        {
          "name": "stdout",
          "output_type": "stream",
          "text": [
            "nb_bidders = 2\n"
          ]
        },
        {
          "name": "stderr",
          "output_type": "stream",
          "text": [
            "  5%|▌         | 253/5000 [00:02<00:39, 119.19it/s]\n"
          ]
        },
        {
          "name": "stdout",
          "output_type": "stream",
          "text": [
            "2.1429145336151123\n",
            "0.017817974090576172\n",
            "\n",
            " 2 2893 2 2893 \n",
            "\n",
            "nb_bidders = 3\n"
          ]
        },
        {
          "name": "stderr",
          "output_type": "stream",
          "text": [
            "  4%|▍         | 218/5000 [00:02<01:02, 76.16it/s]\n"
          ]
        },
        {
          "name": "stdout",
          "output_type": "stream",
          "text": [
            "2.890317916870117\n",
            "0.060462236404418945\n",
            "\n",
            " 3 4143 3 4143 \n",
            "\n",
            "nb_bidders = 4\n"
          ]
        },
        {
          "name": "stderr",
          "output_type": "stream",
          "text": [
            "  4%|▍         | 216/5000 [00:03<01:24, 56.81it/s]\n"
          ]
        },
        {
          "name": "stdout",
          "output_type": "stream",
          "text": [
            "3.836782455444336\n",
            "0.2230837345123291\n",
            "\n",
            " 4 6149 4 6149 \n",
            "\n",
            "nb_bidders = 5\n"
          ]
        },
        {
          "name": "stderr",
          "output_type": "stream",
          "text": [
            "  6%|▌         | 293/5000 [00:05<01:24, 55.65it/s]\n"
          ]
        },
        {
          "name": "stdout",
          "output_type": "stream",
          "text": [
            "5.2979443073272705\n",
            "0.41974830627441406\n",
            "\n",
            " 4 7180 4 7180 \n",
            "\n",
            "nb_bidders = 6\n"
          ]
        },
        {
          "name": "stderr",
          "output_type": "stream",
          "text": [
            "  7%|▋         | 336/5000 [00:06<01:25, 54.25it/s]\n"
          ]
        },
        {
          "name": "stdout",
          "output_type": "stream",
          "text": [
            "6.225013256072998\n",
            "0.7136483192443848\n",
            "\n",
            " 4 5800 4 5800 \n",
            "\n",
            "nb_bidders = 7\n"
          ]
        },
        {
          "name": "stderr",
          "output_type": "stream",
          "text": [
            "  7%|▋         | 334/5000 [00:07<01:44, 44.76it/s]\n"
          ]
        },
        {
          "name": "stdout",
          "output_type": "stream",
          "text": [
            "7.497458219528198\n",
            "2.8855669498443604\n",
            "\n",
            " 5 7542 5 7654 \n",
            "\n",
            "nb_bidders = 8\n"
          ]
        },
        {
          "name": "stderr",
          "output_type": "stream",
          "text": [
            "  6%|▌         | 305/5000 [00:09<02:19, 33.56it/s]\n"
          ]
        },
        {
          "name": "stdout",
          "output_type": "stream",
          "text": [
            "9.129629850387573\n",
            "50.43802547454834\n",
            "\n",
            " 7 10721 7 10721 \n",
            "\n",
            "nb_bidders = 9\n"
          ]
        },
        {
          "name": "stderr",
          "output_type": "stream",
          "text": [
            "  9%|▊         | 430/5000 [00:13<02:19, 32.77it/s]\n"
          ]
        },
        {
          "name": "stdout",
          "output_type": "stream",
          "text": [
            "13.165719032287598\n",
            "89.39188122749329\n",
            "\n",
            " 7 11906 7 11906 \n",
            "\n"
          ]
        }
      ],
      "source": [
        "time_brute_force = []\n",
        "time_q_learning = []\n",
        "Q = []\n",
        "BF = []\n",
        "for nb_bidders in range(2, 10):\n",
        "  print('nb_bidders =', nb_bidders)\n",
        "  solver = Instance(1000, nb_bidders, 10, 10, 2000) \n",
        "  start_time = time.time() \n",
        "  scores = solver.train(5000)\n",
        "  w_Q, g_Q = solver.evaluate() \n",
        "  Q.append([w_Q, g_Q]) \n",
        "  print((time.time() - start_time))\n",
        "  time_q_learning.append((time.time() - start_time)) \n",
        "\n",
        "  gains, winners = [], []\n",
        "  start_time = time.time() \n",
        "  w_BF, g_BF = WDP(solver.bidders, solver.items) \n",
        "  BF.append([w_BF, g_BF])\n",
        "  print((time.time() - start_time))\n",
        "  time_brute_force.append((time.time() - start_time)) \n",
        "\n",
        "  print('\\n', len(w_Q), g_Q, w_BF, g_BF, '\\n')"
      ]
    },
    {
      "cell_type": "code",
      "execution_count": 138,
      "metadata": {
        "colab": {
          "base_uri": "https://localhost:8080/",
          "height": 295
        },
        "id": "CMzjGLHktbo3",
        "outputId": "967d6504-29ac-48b1-ec5f-fe265672d5d8"
      },
      "outputs": [
        {
          "data": {
            "image/png": "[encoded data removed]",
            "text/plain": [
              "<Figure size 432x288 with 1 Axes>"
            ]
          },
          "metadata": {
            "needs_background": "light"
          },
          "output_type": "display_data"
        }
      ],
      "source": [
        "plt.plot(range(2, 10), time_q_learning, color='orange', label='QLearning')\n",
        "plt.plot(range(2, 10), time_brute_force, color='#ff3632', label='Brute force')\n",
        "plt.legend() \n",
        "plt.xlabel('No of iterations') \n",
        "plt.ylabel('Exec time (s)')\n",
        "plt.title('Exec time comparison')\n",
        "plt.show() "
      ]
    },
    {
      "cell_type": "code",
      "execution_count": 142,
      "metadata": {
        "colab": {
          "base_uri": "https://localhost:8080/",
          "height": 295
        },
        "id": "1CHeWPHCSYn1",
        "outputId": "0b9d0bad-40f4-4299-88af-2d2fef345c59"
      },
      "outputs": [
        {
          "data": {
            "image/png": "[encoded data removed]",
            "text/plain": [
              "<Figure size 432x288 with 1 Axes>"
            ]
          },
          "metadata": {
            "needs_background": "light"
          },
          "output_type": "display_data"
        }
      ],
      "source": [
        "plt.plot(range(2, 10), time_q_learning, color='orange', label='QLearning')\n",
        "plt.plot(range(2, 10), time_brute_force, color='#ff3632', label='Brute force')\n",
        "plt.legend() \n",
        "plt.xlabel('No of iterations') \n",
        "plt.ylabel('Exec time (s)')\n",
        "plt.title('Exec time comparison')\n",
        "plt.show() "
      ]
    },
    {
      "cell_type": "markdown",
      "metadata": {
        "id": "3VX2ntMpFC7G"
      },
      "source": [
        "For trivial cases (2 to 7 bidders) the brute force is better cause the number of possibilities is really small, but then we can observe the explosion in the exec time"
      ]
    },
    {
      "cell_type": "markdown",
      "metadata": {
        "id": "7iXKH4yq5wBo"
      },
      "source": [
        "# Tabu search"
      ]
    },
    {
      "cell_type": "markdown",
      "metadata": {
        "id": "ssihDQxXQlvY"
      },
      "source": [
        "## Early stop"
      ]
    },
    {
      "cell_type": "code",
      "execution_count": null,
      "metadata": {
        "colab": {
          "base_uri": "https://localhost:8080/"
        },
        "id": "aL9331A1xsHq",
        "outputId": "8cb007ac-5089-406d-8cb2-13de6015c7d6"
      },
      "outputs": [
        {
          "name": "stderr",
          "output_type": "stream",
          "text": [
            "  2%|▏         | 29/1500 [00:01<01:33, 15.71it/s]\n",
            "100%|██████████| 1500/1500 [00:07<00:00, 190.30it/s]\n"
          ]
        }
      ],
      "source": [
        "solver = Instance(4000, 10, 60, 60, 2000) \n",
        "early_stoped, _ = solver.run(1500, early=10)\n",
        "regular, _ = solver.run(1500, early=-1) "
      ]
    },
    {
      "cell_type": "code",
      "execution_count": null,
      "metadata": {
        "colab": {
          "base_uri": "https://localhost:8080/",
          "height": 295
        },
        "id": "qoh8vKEjsRJ5",
        "outputId": "8d9ceb18-66d8-43d6-affd-c806730bb5cb"
      },
      "outputs": [
        {
          "data": {
            "image/png": "[encoded data removed]",
            "text/plain": [
              "<Figure size 432x288 with 1 Axes>"
            ]
          },
          "metadata": {
            "needs_background": "light"
          },
          "output_type": "display_data"
        }
      ],
      "source": [
        "plt.plot(regular, color='purple', label='Regular') \n",
        "plt.plot(early_stoped, color='#ff3236', label='Early stop') \n",
        "plt.scatter(len(early_stoped), early_stoped[-1], marker='x', color='#ff3236')\n",
        "plt.plot([len(early_stoped) for i in range(0, ceil(early_stoped[-1]))], range(0, ceil(early_stoped[-1])), color='#ff3236', linestyle='--')\n",
        "plt.legend()\n",
        "plt.xlabel('No of iterations') \n",
        "plt.ylabel('Reward gained')\n",
        "plt.title('Evolution of the reward gained')\n",
        "plt.show() "
      ]
    },
    {
      "cell_type": "code",
      "execution_count": null,
      "metadata": {
        "colab": {
          "base_uri": "https://localhost:8080/",
          "height": 295
        },
        "id": "vX4CQU-TQOaz",
        "outputId": "9b276863-bbca-4ed4-910f-caa4b3df5c36"
      },
      "outputs": [
        {
          "data": {
            "image/png": "[encoded data removed]",
            "text/plain": [
              "<Figure size 432x288 with 1 Axes>"
            ]
          },
          "metadata": {
            "needs_background": "light"
          },
          "output_type": "display_data"
        }
      ],
      "source": [
        "plt.plot(regular, color='purple', label='Regular') \n",
        "plt.plot(early_stoped, color='#ff3236', label='Early stop') \n",
        "plt.scatter(len(early_stoped), early_stoped[-1], marker='x', color='#ff3236')\n",
        "plt.plot([len(early_stoped) for i in range(0, ceil(early_stoped[-1]))], range(0, ceil(early_stoped[-1])), color='#ff3236', linestyle='--')\n",
        "plt.legend()\n",
        "plt.xlabel('No of iterations') \n",
        "plt.ylabel('Reward gained')\n",
        "plt.title('Evolution of the reward gained')\n",
        "plt.show() "
      ]
    },
    {
      "cell_type": "markdown",
      "metadata": {},
      "source": [
        "Example of a bad choice for the value of the early stop, we ended the execution just before we found a better solution"
      ]
    },
    {
      "cell_type": "markdown",
      "metadata": {
        "id": "EVfQRekV5wBp"
      },
      "source": [
        "## Validate the results"
      ]
    },
    {
      "cell_type": "code",
      "execution_count": 153,
      "metadata": {
        "colab": {
          "base_uri": "https://localhost:8080/"
        },
        "id": "p6G7Gk6ZFp0g",
        "outputId": "49511f6f-b2ec-4680-d756-27ca95753e9e"
      },
      "outputs": [
        {
          "name": "stdout",
          "output_type": "stream",
          "text": [
            "Instance:  100 15\n"
          ]
        },
        {
          "name": "stderr",
          "output_type": "stream",
          "text": [
            " 23%|██▎       | 1160/5000 [00:03<00:10, 354.26it/s]\n",
            "100%|██████████| 1000/1000 [00:01<00:00, 935.94it/s]\n"
          ]
        },
        {
          "name": "stdout",
          "output_type": "stream",
          "text": [
            "QL 2 2651 3.286970376968384\n",
            "BF 2 3743 0.017493247985839844\n",
            "TS 2 3743 1.0748662948608398\n",
            "\n",
            "Instance:  100 15\n"
          ]
        },
        {
          "name": "stderr",
          "output_type": "stream",
          "text": [
            "100%|██████████| 5000/5000 [00:14<00:00, 345.67it/s]\n",
            "100%|██████████| 1000/1000 [00:02<00:00, 434.38it/s]\n"
          ]
        },
        {
          "name": "stdout",
          "output_type": "stream",
          "text": [
            "QL 1 1752 14.480987787246704\n",
            "BF 1 1961 0.011209964752197266\n",
            "TS 1 1961 2.309952735900879\n",
            "\n",
            "Instance:  1000 15\n"
          ]
        },
        {
          "name": "stderr",
          "output_type": "stream",
          "text": [
            "100%|██████████| 5000/5000 [00:55<00:00, 89.60it/s]\n",
            "100%|██████████| 1000/1000 [00:06<00:00, 147.15it/s]\n"
          ]
        },
        {
          "name": "stdout",
          "output_type": "stream",
          "text": [
            "QL 1 1873 55.82165288925171\n",
            "BF 1 1994 0.06938838958740234\n",
            "TS 1 1994 6.804931163787842\n",
            "\n",
            "Instance:  4000 13\n"
          ]
        },
        {
          "name": "stderr",
          "output_type": "stream",
          "text": [
            " 24%|██▎       | 1187/5000 [02:16<07:17,  8.71it/s]\n",
            "  1%|▏         | 14/1000 [00:01<01:41,  9.74it/s]\n"
          ]
        },
        {
          "name": "stdout",
          "output_type": "stream",
          "text": [
            "QL 4 6436 136.3243534564972\n",
            "BF 5 7906 31.19589877128601\n",
            "TS 5 7906 1.4433717727661133\n",
            "\n",
            "Instance:  5000 13\n"
          ]
        },
        {
          "name": "stderr",
          "output_type": "stream",
          "text": [
            " 25%|██▍       | 1228/5000 [01:47<05:30, 11.42it/s]\n",
            "  2%|▏         | 19/1000 [00:01<01:24, 11.66it/s]\n"
          ]
        },
        {
          "name": "stdout",
          "output_type": "stream",
          "text": [
            "QL 3 5178 107.624431848526\n",
            "BF 4 5965 6.726171493530273\n",
            "TS 3 5178 1.6364870071411133\n",
            "\n",
            "Instance:  5000 13\n"
          ]
        },
        {
          "name": "stderr",
          "output_type": "stream",
          "text": [
            " 22%|██▏       | 1123/5000 [01:10<04:04, 15.84it/s]\n",
            "  3%|▎         | 30/1000 [00:01<00:47, 20.41it/s]\n"
          ]
        },
        {
          "name": "stdout",
          "output_type": "stream",
          "text": [
            "QL 2 3829 70.96028137207031\n",
            "BF 2 3829 0.8093972206115723\n",
            "TS 2 3829 1.4746744632720947\n",
            "\n",
            "Instance:  5000 13\n"
          ]
        },
        {
          "name": "stderr",
          "output_type": "stream",
          "text": [
            "100%|██████████| 5000/5000 [03:20<00:00, 24.94it/s]\n",
            "100%|██████████| 1000/1000 [00:16<00:00, 59.78it/s]\n"
          ]
        },
        {
          "name": "stdout",
          "output_type": "stream",
          "text": [
            "QL 1 1423 200.50732231140137\n",
            "BF 1 1968 0.2820003032684326\n",
            "TS 1 1968 16.73452353477478\n",
            "\n",
            "Instance:  1000 13\n"
          ]
        },
        {
          "name": "stderr",
          "output_type": "stream",
          "text": [
            "100%|██████████| 5000/5000 [00:52<00:00, 95.10it/s]\n",
            "100%|██████████| 1000/1000 [00:05<00:00, 178.84it/s]"
          ]
        },
        {
          "name": "stdout",
          "output_type": "stream",
          "text": [
            "QL 1 1660 52.60422730445862\n",
            "BF 1 1938 0.0624079704284668\n",
            "TS 1 1938 5.596765518188477\n",
            "\n"
          ]
        },
        {
          "name": "stderr",
          "output_type": "stream",
          "text": [
            "\n"
          ]
        }
      ],
      "source": [
        "solvers = (Instance(100, 15, 10, 20, 2000), \n",
        "          Instance(100, 15, 50, 50, 2000), \n",
        "          Instance(1000, 15, 100, 100, 2000), \n",
        "          Instance(4000, 13, 50, 50, 2000), \n",
        "          Instance(5000, 13, 50, 100, 2000),\n",
        "          Instance(5000, 13, 100, 100, 2000),\n",
        "          Instance(5000, 13, 200, 200, 2000),\n",
        "          Instance(1000, 13, 100, 100, 2000))\n",
        "\n",
        "time_brute_force = [] \n",
        "time_q_learning = []\n",
        "time_tabu = []\n",
        "           \n",
        "for solver in solvers:\n",
        "  print('Instance: ', len(solver.items), len(solver.bidders))\n",
        "  start_time = time.time() \n",
        "  scores = solver.train(5000)\n",
        "  w_Q, g_Q = solver.evaluate()\n",
        "  t_Q = time.time() - start_time\n",
        "  time_q_learning.append(t_Q)\n",
        "\n",
        "  gains, winners = [], []\n",
        "  start_time = time.time() \n",
        "  w_BF, g_BF = WDP(solver.bidders, solver.items) \n",
        "  t_BF = time.time() - start_time\n",
        "  time_brute_force.append(t_BF)\n",
        "\n",
        "  start_time = time.time() \n",
        "  history, solution = solver.run(epochs=1000, stable=10, early=10)\n",
        "  t_TS = time.time() - start_time\n",
        "  time_tabu.append(t_TS)\n",
        "  print('QL', len(w_Q), g_Q, t_Q)\n",
        "  print('BF', w_BF, g_BF, t_BF)\n",
        "  print('TS', len(solution[0]), solution[1], t_TS)\n",
        "  print() "
      ]
    },
    {
      "cell_type": "markdown",
      "metadata": {
        "id": "BqIoWDCQ5wBp"
      },
      "source": [
        "## Compare the time complexity"
      ]
    },
    {
      "cell_type": "markdown",
      "metadata": {
        "id": "v41xFgdieS64"
      },
      "source": [
        "### 1000, 10"
      ]
    },
    {
      "cell_type": "code",
      "execution_count": 190,
      "metadata": {
        "colab": {
          "base_uri": "https://localhost:8080/"
        },
        "id": "T36OWKcMkOr6",
        "outputId": "c454558a-3c01-44d6-b2a8-b7926756e96e"
      },
      "outputs": [
        {
          "name": "stdout",
          "output_type": "stream",
          "text": [
            "Number of bidders = 2\n"
          ]
        },
        {
          "name": "stderr",
          "output_type": "stream",
          "text": [
            "  6%|▌         | 281/5000 [00:02<00:41, 113.14it/s]\n",
            "100%|██████████| 1000/1000 [00:00<00:00, 6616.91it/s]\n"
          ]
        },
        {
          "name": "stdout",
          "output_type": "stream",
          "text": [
            "QL 2 2534 2.506373167037964\n",
            "BF 2 2534 0.01917409896850586\n",
            "TS 2 2534 0.15710020065307617\n",
            "\n",
            "Number of bidders = 3\n"
          ]
        },
        {
          "name": "stderr",
          "output_type": "stream",
          "text": [
            "  7%|▋         | 347/5000 [00:03<00:40, 113.58it/s]\n",
            "100%|██████████| 1000/1000 [00:00<00:00, 4383.83it/s]\n"
          ]
        },
        {
          "name": "stdout",
          "output_type": "stream",
          "text": [
            "QL 2 3154 3.0819385051727295\n",
            "BF 2 3154 0.028512239456176758\n",
            "TS 2 3154 0.2360553741455078\n",
            "\n",
            "Number of bidders = 4\n"
          ]
        },
        {
          "name": "stderr",
          "output_type": "stream",
          "text": [
            "  5%|▌         | 269/5000 [00:03<01:02, 76.19it/s]\n",
            "  2%|▏         | 22/1000 [00:00<00:10, 95.30it/s] \n"
          ]
        },
        {
          "name": "stdout",
          "output_type": "stream",
          "text": [
            "QL 3 5170 3.55969500541687\n",
            "BF 3 5170 0.09606623649597168\n",
            "TS 3 5170 0.23893284797668457\n",
            "\n",
            "Number of bidders = 5\n"
          ]
        },
        {
          "name": "stderr",
          "output_type": "stream",
          "text": [
            "  7%|▋         | 329/5000 [00:05<01:16, 61.16it/s]\n",
            "  2%|▏         | 24/1000 [00:00<00:13, 69.97it/s]\n"
          ]
        },
        {
          "name": "stdout",
          "output_type": "stream",
          "text": [
            "QL 3 4738 5.4098899364471436\n",
            "BF 4 5177 0.2713460922241211\n",
            "TS 4 5177 0.35164904594421387\n",
            "\n",
            "Number of bidders = 6\n"
          ]
        },
        {
          "name": "stderr",
          "output_type": "stream",
          "text": [
            "  6%|▌         | 307/5000 [00:07<01:48, 43.12it/s]\n",
            "  1%|          | 12/1000 [00:00<00:23, 42.56it/s]\n"
          ]
        },
        {
          "name": "stdout",
          "output_type": "stream",
          "text": [
            "QL 5 6964 7.158921241760254\n",
            "BF 5 6964 2.005580425262451\n",
            "TS 5 6964 0.289719820022583\n",
            "\n",
            "Number of bidders = 7\n"
          ]
        },
        {
          "name": "stderr",
          "output_type": "stream",
          "text": [
            "  6%|▌         | 310/5000 [00:08<02:02, 38.22it/s]\n",
            "  1%|          | 10/1000 [00:00<00:29, 33.70it/s]\n"
          ]
        },
        {
          "name": "stdout",
          "output_type": "stream",
          "text": [
            "QL 6 8453 8.155427932739258\n",
            "BF 6 8453 7.739725351333618\n",
            "TS 6 8453 0.30908775329589844\n",
            "\n",
            "Number of bidders = 8\n"
          ]
        },
        {
          "name": "stderr",
          "output_type": "stream",
          "text": [
            "  9%|▉         | 447/5000 [00:12<02:03, 36.98it/s]\n",
            "  1%|          | 12/1000 [00:00<00:23, 42.08it/s]\n"
          ]
        },
        {
          "name": "stdout",
          "output_type": "stream",
          "text": [
            "QL 5 8178 12.122605562210083\n",
            "BF 6 9081 15.532028913497925\n",
            "TS 5 8178 0.29688286781311035\n",
            "\n",
            "Number of bidders = 9\n"
          ]
        },
        {
          "name": "stderr",
          "output_type": "stream",
          "text": [
            "  8%|▊         | 403/5000 [00:10<02:02, 37.40it/s]\n",
            "  1%|▏         | 14/1000 [00:00<00:24, 40.05it/s]\n"
          ]
        },
        {
          "name": "stdout",
          "output_type": "stream",
          "text": [
            "QL 5 8631 10.813027620315552\n",
            "BF 6 9767 20.52382755279541\n",
            "TS 5 8814 0.3582916259765625\n",
            "\n"
          ]
        }
      ],
      "source": [
        "time_brute_force = [] \n",
        "time_q_learning = []\n",
        "time_tabu = []\n",
        "           \n",
        "for nb_bidders in range(2, 10):\n",
        "  solver = Instance(1000, nb_bidders, 10, 10, 2000)\n",
        "  print('Number of bidders =', nb_bidders)\n",
        "  start_time = time.time() \n",
        "  scores = solver.train(5000)\n",
        "  w_Q, g_Q = solver.evaluate()\n",
        "  t_Q = time.time() - start_time\n",
        "  time_q_learning.append(t_Q)\n",
        "\n",
        "  start_time = time.time() \n",
        "  history, solution = solver.run(epochs=1000, stable=10, early=10)\n",
        "  t_TS = time.time() - start_time\n",
        "  time_tabu.append(t_TS)  \n",
        "\n",
        "  gains, winners = [], []\n",
        "  start_time = time.time() \n",
        "  w_BF, g_BF = WDP(solver.bidders, solver.items) \n",
        "  t_BF = time.time() - start_time\n",
        "  time_brute_force.append(t_BF)\n",
        "\n",
        "  print('QL', len(w_Q), g_Q, t_Q)\n",
        "  print('BF', w_BF, g_BF, t_BF)\n",
        "  print('TS', len(solution[0]), solution[1], t_TS)\n",
        "  print()"
      ]
    },
    {
      "cell_type": "code",
      "execution_count": 191,
      "metadata": {
        "colab": {
          "base_uri": "https://localhost:8080/",
          "height": 281
        },
        "id": "H3F4on5Nla3u",
        "outputId": "b1cea5c8-a854-4208-ce0c-5f1aea3b0f30"
      },
      "outputs": [
        {
          "data": {
            "image/png": "[encoded data removed]",
            "text/plain": [
              "<Figure size 432x288 with 1 Axes>"
            ]
          },
          "metadata": {
            "needs_background": "light"
          },
          "output_type": "display_data"
        }
      ],
      "source": [
        "plt.plot(range(2, 10), time_q_learning, color='orange', label='QLearning')\n",
        "plt.plot(range(2, 10), time_tabu, color='purple', label='Tabu search')\n",
        "plt.plot(range(2, 10), time_brute_force, color='#ff3632', label='Brute force')\n",
        "plt.legend() \n",
        "plt.title('Exec time comparison')\n",
        "plt.show() "
      ]
    },
    {
      "cell_type": "code",
      "execution_count": 6,
      "metadata": {
        "colab": {
          "base_uri": "https://localhost:8080/"
        },
        "id": "SGCBX1MLzQ62",
        "outputId": "3f931489-dfbf-4d78-be5d-a5ae807cd893"
      },
      "outputs": [
        {
          "name": "stdout",
          "output_type": "stream",
          "text": [
            "Number of bidders = 2\n"
          ]
        },
        {
          "name": "stderr",
          "output_type": "stream",
          "text": [
            "  5%|▌         | 267/5000 [00:02<00:40, 116.11it/s]\n",
            "100%|██████████| 1000/1000 [00:00<00:00, 6709.09it/s]\n"
          ]
        },
        {
          "name": "stdout",
          "output_type": "stream",
          "text": [
            "QL 2 3310 2.321518659591675\n",
            "BF 2 3310 0.014334917068481445\n",
            "TS 2 3310 0.16499614715576172\n",
            "\n",
            "Number of bidders = 3\n"
          ]
        },
        {
          "name": "stderr",
          "output_type": "stream",
          "text": [
            "  4%|▍         | 211/5000 [00:02<01:02, 76.75it/s]\n",
            "100%|██████████| 1000/1000 [00:00<00:00, 3150.21it/s]\n"
          ]
        },
        {
          "name": "stdout",
          "output_type": "stream",
          "text": [
            "QL 3 4146 2.785090208053589\n",
            "BF 3 4146 0.057259559631347656\n",
            "TS 3 4146 0.32396364212036133\n",
            "\n",
            "Number of bidders = 4\n"
          ]
        },
        {
          "name": "stderr",
          "output_type": "stream",
          "text": [
            "  4%|▎         | 186/5000 [00:03<01:23, 57.59it/s]\n",
            "  2%|▏         | 17/1000 [00:00<00:13, 75.32it/s]\n"
          ]
        },
        {
          "name": "stdout",
          "output_type": "stream",
          "text": [
            "QL 4 7133 3.2589709758758545\n",
            "BF 4 7133 0.2269141674041748\n",
            "TS 4 7133 0.23255515098571777\n",
            "\n",
            "Number of bidders = 5\n"
          ]
        },
        {
          "name": "stderr",
          "output_type": "stream",
          "text": [
            "  7%|▋         | 341/5000 [00:05<01:21, 57.29it/s]\n",
            "  2%|▏         | 17/1000 [00:00<00:13, 73.91it/s]\n"
          ]
        },
        {
          "name": "stdout",
          "output_type": "stream",
          "text": [
            "QL 4 5622 5.980644226074219\n",
            "BF 4 5622 0.4051837921142578\n",
            "TS 4 5622 0.23679161071777344\n",
            "\n",
            "Number of bidders = 6\n"
          ]
        },
        {
          "name": "stderr",
          "output_type": "stream",
          "text": [
            "  4%|▍         | 205/5000 [00:05<02:06, 37.93it/s]\n",
            "  1%|          | 10/1000 [00:00<00:27, 36.37it/s]\n"
          ]
        },
        {
          "name": "stdout",
          "output_type": "stream",
          "text": [
            "QL 6 8315 5.441140413284302\n",
            "BF 6 8315 6.56373143196106\n",
            "TS 6 8315 0.2826414108276367\n",
            "\n",
            "Number of bidders = 7\n"
          ]
        },
        {
          "name": "stderr",
          "output_type": "stream",
          "text": [
            "  6%|▌         | 286/5000 [00:09<02:33, 30.71it/s]\n",
            "  1%|          | 10/1000 [00:00<00:58, 17.04it/s]\n"
          ]
        },
        {
          "name": "stdout",
          "output_type": "stream",
          "text": [
            "QL 6 9275 9.403022527694702\n",
            "BF 6 9275 13.18211841583252\n",
            "TS 6 9275 0.61171555519104\n",
            "\n",
            "Number of bidders = 8\n"
          ]
        },
        {
          "name": "stderr",
          "output_type": "stream",
          "text": [
            "  7%|▋         | 350/5000 [00:09<02:06, 36.89it/s]\n",
            "  1%|          | 10/1000 [00:00<00:29, 33.85it/s]\n"
          ]
        },
        {
          "name": "stdout",
          "output_type": "stream",
          "text": [
            "QL 6 8791 9.528605461120605\n",
            "BF 6 8886 17.976580381393433\n",
            "TS 6 8791 0.30055880546569824\n",
            "\n",
            "Number of bidders = 9\n"
          ]
        },
        {
          "name": "stderr",
          "output_type": "stream",
          "text": [
            " 10%|▉         | 484/5000 [00:13<02:05, 35.96it/s]\n",
            "  1%|          | 10/1000 [00:00<00:28, 34.75it/s]\n"
          ]
        },
        {
          "name": "stdout",
          "output_type": "stream",
          "text": [
            "QL 6 9258 13.506158828735352\n",
            "BF 6 9258 41.328513860702515\n",
            "TS 6 9258 0.2983114719390869\n",
            "\n"
          ]
        }
      ],
      "source": [
        "time_brute_force = [] \n",
        "time_q_learning = []\n",
        "time_tabu = []\n",
        "           \n",
        "for nb_bidders in range(2, 10):\n",
        "  solver = Instance(1000, nb_bidders, 10, 10, 2000)\n",
        "  print('Number of bidders =', nb_bidders)\n",
        "  start_time = time.time() \n",
        "  scores = solver.train(5000)\n",
        "  w_Q, g_Q = solver.evaluate()\n",
        "  t_Q = time.time() - start_time\n",
        "  time_q_learning.append(t_Q)\n",
        "\n",
        "  start_time = time.time() \n",
        "  history, solution = solver.run(epochs=1000, stable=10, early=10)\n",
        "  t_TS = time.time() - start_time\n",
        "  time_tabu.append(t_TS)  \n",
        "\n",
        "  gains, winners = [], []\n",
        "  start_time = time.time() \n",
        "  w_BF, g_BF = WDP(solver.bidders, solver.items) \n",
        "  t_BF = time.time() - start_time\n",
        "  time_brute_force.append(t_BF)\n",
        "\n",
        "  print('QL', len(w_Q), g_Q, t_Q)\n",
        "  print('BF', w_BF, g_BF, t_BF)\n",
        "  print('TS', len(solution[0]), solution[1], t_TS)\n",
        "  print()"
      ]
    },
    {
      "cell_type": "code",
      "execution_count": 7,
      "metadata": {
        "colab": {
          "base_uri": "https://localhost:8080/",
          "height": 281
        },
        "id": "_jU4bcKAwqE3",
        "outputId": "f7625d4d-9f24-444e-8cb0-6872c85f875e"
      },
      "outputs": [
        {
          "data": {
            "image/png": "[encoded data removed]",
            "text/plain": [
              "<Figure size 432x288 with 1 Axes>"
            ]
          },
          "metadata": {
            "needs_background": "light"
          },
          "output_type": "display_data"
        }
      ],
      "source": [
        "plt.plot(range(2, 10), time_q_learning, color='orange', label='QLearning')\n",
        "plt.plot(range(2, 10), time_tabu, color='purple', label='Tabu search')\n",
        "plt.plot(range(2, 10), time_brute_force, color='#ff3632', label='Brute force')\n",
        "plt.legend() \n",
        "plt.title('Exec time comparison')\n",
        "plt.show() "
      ]
    },
    {
      "cell_type": "markdown",
      "metadata": {
        "id": "siiyMW-4eZSL"
      },
      "source": [
        "### Other tests"
      ]
    },
    {
      "cell_type": "code",
      "execution_count": 24,
      "metadata": {
        "colab": {
          "base_uri": "https://localhost:8080/"
        },
        "id": "ANCkMv-INFRi",
        "outputId": "3e5bbd25-3331-4a0a-b941-7fa1f1fc4698"
      },
      "outputs": [
        {
          "name": "stdout",
          "output_type": "stream",
          "text": [
            "Number of bidders = 4\n"
          ]
        },
        {
          "name": "stderr",
          "output_type": "stream",
          "text": [
            "  4%|▍         | 201/5000 [00:30<12:12,  6.56it/s]\n",
            "  2%|▏         | 17/1000 [00:01<01:03, 15.58it/s]\n"
          ]
        },
        {
          "name": "stdout",
          "output_type": "stream",
          "text": [
            "QL 4 6162 30.75038194656372\n",
            "BF 4 6162 1.1209609508514404\n",
            "TS 4 6162 1.0996336936950684\n",
            "\n",
            "Number of bidders = 5\n"
          ]
        },
        {
          "name": "stderr",
          "output_type": "stream",
          "text": [
            "  5%|▌         | 274/5000 [00:20<05:59, 13.16it/s]\n",
            "  2%|▏         | 16/1000 [00:01<01:10, 14.01it/s]\n"
          ]
        },
        {
          "name": "stdout",
          "output_type": "stream",
          "text": [
            "QL 4 6696 20.933058500289917\n",
            "BF 4 6696 1.3163707256317139\n",
            "TS 4 6696 1.1511454582214355\n",
            "\n",
            "Number of bidders = 6\n"
          ]
        },
        {
          "name": "stderr",
          "output_type": "stream",
          "text": [
            "  4%|▍         | 205/5000 [00:25<09:50,  8.12it/s]\n",
            "  1%|          | 10/1000 [00:01<02:11,  7.53it/s]\n"
          ]
        },
        {
          "name": "stdout",
          "output_type": "stream",
          "text": [
            "QL 6 9426 25.383469820022583\n",
            "BF 6 9426 33.95903539657593\n",
            "TS 6 9426 1.3347561359405518\n",
            "\n",
            "Number of bidders = 7\n"
          ]
        },
        {
          "name": "stderr",
          "output_type": "stream",
          "text": [
            "  6%|▌         | 299/5000 [00:37<09:55,  7.90it/s]\n",
            "  1%|          | 10/1000 [00:01<02:16,  7.27it/s]\n"
          ]
        },
        {
          "name": "stdout",
          "output_type": "stream",
          "text": [
            "QL 6 9569 37.98655724525452\n",
            "BF 6 9569 61.401121854782104\n",
            "TS 6 9569 1.3815529346466064\n",
            "\n",
            "Number of bidders = 8\n"
          ]
        },
        {
          "name": "stderr",
          "output_type": "stream",
          "text": [
            "  7%|▋         | 374/5000 [00:47<09:42,  7.94it/s]\n",
            "  1%|          | 10/1000 [00:01<02:14,  7.34it/s]\n"
          ]
        },
        {
          "name": "stdout",
          "output_type": "stream",
          "text": [
            "QL 6 9958 47.264543533325195\n",
            "BF 6 9958 114.16300177574158\n",
            "TS 6 9958 1.3688416481018066\n",
            "\n",
            "Number of bidders = 9\n"
          ]
        },
        {
          "name": "stderr",
          "output_type": "stream",
          "text": [
            "  7%|▋         | 344/5000 [00:54<12:13,  6.35it/s]\n",
            "  1%|          | 7/1000 [00:01<03:31,  4.69it/s]\n"
          ]
        },
        {
          "name": "stdout",
          "output_type": "stream",
          "text": [
            "QL 8 11230 54.33029389381409\n",
            "BF 8 11230 2047.664517402649\n",
            "TS 8 11230 1.5015687942504883\n",
            "\n"
          ]
        }
      ],
      "source": [
        "time_brute_force = [] \n",
        "time_q_learning = []\n",
        "time_tabu = []\n",
        "\n",
        "for nb_bidders in range(4, 10):\n",
        "  solver = Instance(5000, nb_bidders, 20, 20, 2000)\n",
        "  print('Number of bidders =', nb_bidders)\n",
        "  start_time = time.time() \n",
        "  scores = solver.train(5000)\n",
        "  w_Q, g_Q = solver.evaluate()\n",
        "  t_Q = time.time() - start_time\n",
        "  time_q_learning.append(t_Q)\n",
        "\n",
        "  start_time = time.time() \n",
        "  history, solution = solver.run(epochs=1000, stable=10, early=10)\n",
        "  t_TS = time.time() - start_time\n",
        "  time_tabu.append(t_TS)  \n",
        "\n",
        "  gains, winners = [], []\n",
        "  start_time = time.time() \n",
        "  w_BF, g_BF = WDP(solver.bidders, solver.items) \n",
        "  t_BF = time.time() - start_time\n",
        "  time_brute_force.append(t_BF)\n",
        "\n",
        "  print('QL', len(w_Q), g_Q, t_Q)\n",
        "  print('BF', w_BF, g_BF, t_BF)\n",
        "  print('TS', len(solution[0]), solution[1], t_TS)\n",
        "  print()"
      ]
    },
    {
      "cell_type": "code",
      "execution_count": 25,
      "metadata": {
        "colab": {
          "base_uri": "https://localhost:8080/",
          "height": 281
        },
        "id": "LEWwnkgA4uwb",
        "outputId": "2af19841-dd83-4301-97a5-7ffcabcd71cf"
      },
      "outputs": [
        {
          "data": {
            "image/png": "[encoded data removed]",
            "text/plain": [
              "<Figure size 432x288 with 1 Axes>"
            ]
          },
          "metadata": {
            "needs_background": "light"
          },
          "output_type": "display_data"
        }
      ],
      "source": [
        "plt.plot(range(4, 10), time_q_learning, color='orange', label='QLearning')\n",
        "plt.plot(range(4, 10), time_tabu, color='purple', label='Tabu search')\n",
        "plt.plot(range(4, 10), time_brute_force, color='#ff3632', label='Brute force')\n",
        "plt.legend() \n",
        "plt.title('Exec time comparison')\n",
        "plt.show() "
      ]
    },
    {
      "cell_type": "code",
      "execution_count": 42,
      "metadata": {
        "colab": {
          "base_uri": "https://localhost:8080/"
        },
        "id": "uuExuIIUFDjd",
        "outputId": "68b7278b-5ff3-46e8-d3ff-d32aa44afdc9"
      },
      "outputs": [
        {
          "name": "stdout",
          "output_type": "stream",
          "text": [
            "Number of bidders = 2\n"
          ]
        },
        {
          "name": "stderr",
          "output_type": "stream",
          "text": [
            "  5%|▌         | 255/5000 [00:14<04:26, 17.81it/s]\n",
            "100%|██████████| 1000/1000 [00:00<00:00, 3370.06it/s]\n"
          ]
        },
        {
          "name": "stdout",
          "output_type": "stream",
          "text": [
            "QL 2 2577 14.377592325210571\n",
            "BF 2 2577 0.08855795860290527\n",
            "TS 2 2577 0.3044755458831787\n",
            "\n",
            "Number of bidders = 3\n"
          ]
        },
        {
          "name": "stderr",
          "output_type": "stream",
          "text": [
            "  5%|▍         | 235/5000 [00:16<05:41, 13.94it/s]\n",
            "100%|██████████| 1000/1000 [00:01<00:00, 978.58it/s]\n"
          ]
        },
        {
          "name": "stdout",
          "output_type": "stream",
          "text": [
            "QL 3 3826 16.944859743118286\n",
            "BF 3 3826 0.3201792240142822\n",
            "TS 3 3826 1.0298058986663818\n",
            "\n",
            "Number of bidders = 4\n"
          ]
        },
        {
          "name": "stderr",
          "output_type": "stream",
          "text": [
            "  4%|▍         | 191/5000 [00:18<07:38, 10.50it/s]\n",
            "  2%|▏         | 17/1000 [00:01<01:15, 13.04it/s]\n"
          ]
        },
        {
          "name": "stdout",
          "output_type": "stream",
          "text": [
            "QL 4 5769 18.295287609100342\n",
            "BF 4 5769 1.364457368850708\n",
            "TS 4 5769 1.3103678226470947\n",
            "\n",
            "Number of bidders = 5\n"
          ]
        },
        {
          "name": "stderr",
          "output_type": "stream",
          "text": [
            "  6%|▋         | 316/5000 [00:30<07:28, 10.43it/s]\n",
            "  2%|▏         | 17/1000 [00:01<01:16, 12.93it/s]\n"
          ]
        },
        {
          "name": "stdout",
          "output_type": "stream",
          "text": [
            "QL 4 5911 30.401042938232422\n",
            "BF 4 5911 2.363219976425171\n",
            "TS 4 5911 1.3226056098937988\n",
            "\n",
            "Number of bidders = 6\n"
          ]
        },
        {
          "name": "stderr",
          "output_type": "stream",
          "text": [
            "  4%|▍         | 195/5000 [00:28<11:40,  6.86it/s]\n",
            "  1%|          | 10/1000 [00:01<02:35,  6.37it/s]\n"
          ]
        },
        {
          "name": "stdout",
          "output_type": "stream",
          "text": [
            "QL 6 10004 28.59037756919861\n",
            "BF 6 10004 40.868035316467285\n",
            "TS 6 10004 1.5756478309631348\n",
            "\n",
            "Number of bidders = 7\n"
          ]
        },
        {
          "name": "stderr",
          "output_type": "stream",
          "text": [
            "  5%|▍         | 229/5000 [00:38<13:27,  5.91it/s]\n",
            "  1%|          | 8/1000 [00:01<03:23,  4.87it/s]\n"
          ]
        },
        {
          "name": "stdout",
          "output_type": "stream",
          "text": [
            "QL 7 10599 38.93727397918701\n",
            "BF 7 10599 283.04005765914917\n",
            "TS 7 10599 1.6495585441589355\n",
            "\n",
            "Number of bidders = 8\n"
          ]
        },
        {
          "name": "stderr",
          "output_type": "stream",
          "text": [
            "  6%|▌         | 277/5000 [00:44<12:31,  6.29it/s]\n",
            "  1%|          | 8/1000 [00:01<03:30,  4.70it/s]\n"
          ]
        },
        {
          "name": "stdout",
          "output_type": "stream",
          "text": [
            "QL 7 11146 44.25016450881958\n",
            "BF 7 11146 317.4080412387848\n",
            "TS 7 11146 1.7072510719299316\n",
            "\n"
          ]
        }
      ],
      "source": [
        "time_brute_force = [] \n",
        "time_q_learning = []\n",
        "time_tabu = []\n",
        "\n",
        "for nb_bidders in range(2, 9):\n",
        "  solver = Instance(6000, nb_bidders, 10, 10, 2000)\n",
        "  print('Number of bidders =', nb_bidders)\n",
        "  start_time = time.time() \n",
        "  scores = solver.train(5000)\n",
        "  w_Q, g_Q = solver.evaluate()\n",
        "  t_Q = time.time() - start_time\n",
        "  time_q_learning.append(t_Q)\n",
        "\n",
        "  start_time = time.time() \n",
        "  history, solution = solver.run(epochs=1000, stable=10, early=10)\n",
        "  t_TS = time.time() - start_time\n",
        "  time_tabu.append(t_TS)  \n",
        "\n",
        "  gains, winners = [], []\n",
        "  start_time = time.time() \n",
        "  w_BF, g_BF = WDP(solver.bidders, solver.items) \n",
        "  t_BF = time.time() - start_time\n",
        "  time_brute_force.append(t_BF)\n",
        "\n",
        "  print('QL', len(w_Q), g_Q, t_Q)\n",
        "  print('BF', w_BF, g_BF, t_BF)\n",
        "  print('TS', len(solution[0]), solution[1], t_TS)\n",
        "  print()"
      ]
    },
    {
      "cell_type": "code",
      "execution_count": 43,
      "metadata": {
        "colab": {
          "base_uri": "https://localhost:8080/",
          "height": 545
        },
        "id": "A8KoEXBgFDje",
        "outputId": "ad2d11e8-1b24-4894-e03c-1bbcd305482b"
      },
      "outputs": [
        {
          "data": {
            "image/png": "[encoded data removed]",
            "text/plain": [
              "<Figure size 432x288 with 1 Axes>"
            ]
          },
          "metadata": {
            "needs_background": "light"
          },
          "output_type": "display_data"
        },
        {
          "data": {
            "image/png": "[encoded data removed]",
            "text/plain": [
              "<Figure size 432x288 with 1 Axes>"
            ]
          },
          "metadata": {
            "needs_background": "light"
          },
          "output_type": "display_data"
        }
      ],
      "source": [
        "plt.plot(range(2, 9), time_tabu, color='purple', label='Tabu search')\n",
        "plt.plot(range(2, 9), time_brute_force, color='#ff3632', label='Brute force')\n",
        "plt.legend() \n",
        "plt.title('Exec time comparison')\n",
        "plt.show() \n",
        "plt.plot(range(2, 9), time_q_learning, color='orange', label='QLearning')\n",
        "plt.plot(range(2, 9), time_tabu, color='purple', label='Tabu search')\n",
        "plt.plot(range(2, 9), time_brute_force, color='#ff3632', label='Brute force')\n",
        "plt.legend() \n",
        "plt.title('Exec time comparison')\n",
        "plt.show() "
      ]
    },
    {
      "cell_type": "markdown",
      "metadata": {
        "id": "OMVUwy7PSl4z"
      },
      "source": [
        "### Comparaison of exec time with the brute force"
      ]
    },
    {
      "cell_type": "code",
      "execution_count": null,
      "metadata": {
        "colab": {
          "base_uri": "https://localhost:8080/",
          "height": 281
        },
        "id": "29dODN95RztB",
        "outputId": "cb12b931-0f1c-4c81-fcd5-9d08b0816fad"
      },
      "outputs": [
        {
          "data": {
            "image/png": "[encoded data removed]",
            "text/plain": [
              "<Figure size 432x288 with 1 Axes>"
            ]
          },
          "metadata": {
            "needs_background": "light"
          },
          "output_type": "display_data"
        }
      ],
      "source": [
        "plt.scatter(range(2, 10), time_tabu, color='purple', label='Tabu search')\n",
        "plt.scatter(range(2, 10), time_brute_force, color='#ff3632', label='Brute force')\n",
        "plt.legend() \n",
        "plt.title('Exec time comparison')\n",
        "plt.show() "
      ]
    },
    {
      "cell_type": "code",
      "execution_count": null,
      "metadata": {
        "colab": {
          "base_uri": "https://localhost:8080/",
          "height": 281
        },
        "id": "QahN37GUSqbi",
        "outputId": "d30dd2a1-069b-403a-9caf-5e0bafac7e6f"
      },
      "outputs": [
        {
          "data": {
            "image/png": "[encoded data removed]",
            "text/plain": [
              "<Figure size 432x288 with 1 Axes>"
            ]
          },
          "metadata": {
            "needs_background": "light"
          },
          "output_type": "display_data"
        }
      ],
      "source": [
        "plt.scatter(range(2, 10), time_tabu, color='purple', label='Tabu search')\n",
        "plt.scatter(range(2, 10), time_brute_force, color='#ff3632', label='Brute force')\n",
        "plt.legend() \n",
        "plt.title('Exec time comparison')\n",
        "plt.show() "
      ]
    },
    {
      "cell_type": "markdown",
      "metadata": {
        "id": "S3VRgxjvMlwT"
      },
      "source": [
        "## Trivial cases"
      ]
    },
    {
      "cell_type": "code",
      "execution_count": null,
      "metadata": {
        "colab": {
          "base_uri": "https://localhost:8080/"
        },
        "id": "znccvt_3Moqo",
        "outputId": "d8aac0b4-904c-4fb5-ca13-877d4f5bf8d2"
      },
      "outputs": [
        {
          "name": "stdout",
          "output_type": "stream",
          "text": [
            "nb_bidders = 2\n"
          ]
        },
        {
          "name": "stderr",
          "output_type": "stream",
          "text": [
            "100%|██████████| 1000/1000 [00:00<00:00, 5977.76it/s]"
          ]
        },
        {
          "name": "stdout",
          "output_type": "stream",
          "text": [
            "0.17801189422607422\n",
            "0.016940832138061523\n",
            "\n",
            " 2 2690 2"
          ]
        },
        {
          "name": "stderr",
          "output_type": "stream",
          "text": [
            "\n"
          ]
        },
        {
          "name": "stdout",
          "output_type": "stream",
          "text": [
            " 2690 \n",
            "\n",
            "nb_bidders = 3\n"
          ]
        },
        {
          "name": "stderr",
          "output_type": "stream",
          "text": [
            "100%|██████████| 1000/1000 [00:00<00:00, 2545.92it/s]\n"
          ]
        },
        {
          "name": "stdout",
          "output_type": "stream",
          "text": [
            "0.4060385227203369\n",
            "0.0715029239654541\n",
            "\n",
            " 3 3533 3 3533 \n",
            "\n",
            "nb_bidders = 4\n"
          ]
        },
        {
          "name": "stderr",
          "output_type": "stream",
          "text": [
            "100%|██████████| 1000/1000 [00:00<00:00, 2916.13it/s]\n"
          ]
        },
        {
          "name": "stdout",
          "output_type": "stream",
          "text": [
            "0.3535497188568115\n",
            "0.04989767074584961\n",
            "\n",
            " 2 3542 2 3542 \n",
            "\n",
            "nb_bidders = 5\n"
          ]
        },
        {
          "name": "stderr",
          "output_type": "stream",
          "text": [
            "  2%|▏         | 22/1000 [00:00<00:11, 82.29it/s]\n"
          ]
        },
        {
          "name": "stdout",
          "output_type": "stream",
          "text": [
            "0.28258585929870605\n",
            "0.16282939910888672\n",
            "\n",
            " 3 5382 3 5382 \n",
            "\n",
            "nb_bidders = 6\n"
          ]
        },
        {
          "name": "stderr",
          "output_type": "stream",
          "text": [
            "  1%|          | 10/1000 [00:00<00:30, 32.36it/s]\n"
          ]
        },
        {
          "name": "stdout",
          "output_type": "stream",
          "text": [
            "0.31885266304016113\n",
            "8.402277946472168\n",
            "\n",
            " 6 8936 6 8936 \n",
            "\n",
            "nb_bidders = 7\n"
          ]
        },
        {
          "name": "stderr",
          "output_type": "stream",
          "text": [
            "  1%|          | 12/1000 [00:00<00:27, 35.89it/s]\n"
          ]
        },
        {
          "name": "stdout",
          "output_type": "stream",
          "text": [
            "0.3459479808807373\n",
            "4.149357557296753\n",
            "\n",
            " 5 7861 5 7861 \n",
            "\n",
            "nb_bidders = 8\n"
          ]
        },
        {
          "name": "stderr",
          "output_type": "stream",
          "text": [
            "  1%|          | 8/1000 [00:00<00:42, 23.29it/s]\n"
          ]
        },
        {
          "name": "stdout",
          "output_type": "stream",
          "text": [
            "0.35245203971862793\n",
            "63.16314172744751\n",
            "\n",
            " 7 9942 7 9942 \n",
            "\n",
            "nb_bidders = 9\n"
          ]
        },
        {
          "name": "stderr",
          "output_type": "stream",
          "text": [
            "  1%|          | 10/1000 [00:00<00:32, 30.21it/s]\n"
          ]
        },
        {
          "name": "stdout",
          "output_type": "stream",
          "text": [
            "0.34424710273742676\n",
            "32.28654408454895\n",
            "\n",
            " 6 9050 6 9050 \n",
            "\n"
          ]
        }
      ],
      "source": [
        "time_brute_force = []\n",
        "time_tabu = []\n",
        "TS = []\n",
        "BF = []\n",
        "for nb_bidders in range(2, 10):\n",
        "  print('nb_bidders =', nb_bidders)\n",
        "  solver = Instance(1000, nb_bidders, 10, 10, 2000) \n",
        "\n",
        "  start_time = time.time() \n",
        "  history, solution = solver.run(epochs=1000, stable=10, early=10)\n",
        "  t_TS = time.time() - start_time\n",
        "  TS.append(solution)\n",
        "  print(t_TS)\n",
        "  time_tabu.append(t_TS)  \n",
        "\n",
        "  gains, winners = [], []\n",
        "  start_time = time.time() \n",
        "  w_BF, g_BF = WDP(solver.bidders, solver.items) \n",
        "  BF.append([w_BF, g_BF])\n",
        "  print((time.time() - start_time))\n",
        "  time_brute_force.append((time.time() - start_time)) \n",
        "\n",
        "  print('\\n', len(solution[0]), solution[1], w_BF, g_BF, '\\n')"
      ]
    },
    {
      "cell_type": "code",
      "execution_count": null,
      "metadata": {
        "colab": {
          "base_uri": "https://localhost:8080/",
          "height": 295
        },
        "id": "HXmDFS7VPAyy",
        "outputId": "d3e05d55-5086-445c-bb15-d193e7730af3"
      },
      "outputs": [
        {
          "data": {
            "image/png": "[encoded data removed]",
            "text/plain": [
              "<Figure size 432x288 with 1 Axes>"
            ]
          },
          "metadata": {
            "needs_background": "light"
          },
          "output_type": "display_data"
        }
      ],
      "source": [
        "plt.plot(range(2, 10), time_tabu, color='purple', label='Tabu search')\n",
        "plt.plot(range(2, 10), time_brute_force, color='#ff3632', label='Brute force')\n",
        "plt.legend() \n",
        "plt.xlabel('No of iterations') \n",
        "plt.ylabel('Exec time (s)')\n",
        "plt.title('Exec time comparison')\n",
        "plt.show() "
      ]
    },
    {
      "cell_type": "code",
      "execution_count": null,
      "metadata": {
        "colab": {
          "base_uri": "https://localhost:8080/",
          "height": 295
        },
        "id": "kJD0GEQYOwK7",
        "outputId": "0676e4c6-7bad-413f-c1b8-91bd9cfd9702"
      },
      "outputs": [
        {
          "data": {
            "image/png": "[encoded data removed]",
            "text/plain": [
              "<Figure size 432x288 with 1 Axes>"
            ]
          },
          "metadata": {
            "needs_background": "light"
          },
          "output_type": "display_data"
        }
      ],
      "source": [
        "plt.plot(range(2, 10), time_tabu, color='purple', label='Tabu search')\n",
        "plt.plot(range(2, 10), time_brute_force, color='#ff3632', label='Brute force')\n",
        "plt.legend() \n",
        "plt.xlabel('No of iterations') \n",
        "plt.ylabel('Exec time (s)')\n",
        "plt.title('Exec time comparison')\n",
        "plt.show() "
      ]
    },
    {
      "cell_type": "markdown",
      "metadata": {
        "id": "UOJ4yAEpNHWB"
      },
      "source": [
        "# Advanced tests"
      ]
    },
    {
      "cell_type": "markdown",
      "metadata": {},
      "source": [
        "We now compare Tabu search and Q learning on big and complex instanes"
      ]
    },
    {
      "cell_type": "code",
      "execution_count": 184,
      "metadata": {
        "colab": {
          "base_uri": "https://localhost:8080/"
        },
        "id": "_zJv2ysx7-FH",
        "outputId": "73e57959-287d-4d6c-e392-ec83feb6c938"
      },
      "outputs": [
        {
          "name": "stdout",
          "output_type": "stream",
          "text": [
            "Number of bidders = 4\n"
          ]
        },
        {
          "name": "stderr",
          "output_type": "stream",
          "text": [
            "  8%|▊         | 391/5000 [00:03<00:35, 130.17it/s]\n",
            "100%|██████████| 1000/1000 [00:00<00:00, 1153.96it/s]\n"
          ]
        },
        {
          "name": "stdout",
          "output_type": "stream",
          "text": [
            "QL 2 3200 3.024413824081421\n",
            "TS 2 3200 0.8744332790374756\n",
            "\n",
            "Number of bidders = 5\n"
          ]
        },
        {
          "name": "stderr",
          "output_type": "stream",
          "text": [
            "  9%|▉         | 446/5000 [00:03<00:37, 121.38it/s]\n",
            "100%|██████████| 1000/1000 [00:00<00:00, 1014.43it/s]\n"
          ]
        },
        {
          "name": "stdout",
          "output_type": "stream",
          "text": [
            "QL 2 2348 3.6970646381378174\n",
            "TS 2 2348 0.9935603141784668\n",
            "\n",
            "Number of bidders = 6\n"
          ]
        },
        {
          "name": "stderr",
          "output_type": "stream",
          "text": [
            " 11%|█▏        | 574/5000 [00:06<00:46, 95.38it/s]\n",
            "100%|██████████| 1000/1000 [00:01<00:00, 737.37it/s]\n"
          ]
        },
        {
          "name": "stdout",
          "output_type": "stream",
          "text": [
            "QL 2 3006 6.039831161499023\n",
            "TS 2 3313 1.3673021793365479\n",
            "\n",
            "Number of bidders = 7\n"
          ]
        },
        {
          "name": "stderr",
          "output_type": "stream",
          "text": [
            " 10%|█         | 510/5000 [00:05<00:47, 94.08it/s]\n",
            "100%|██████████| 1000/1000 [00:01<00:00, 645.20it/s]\n"
          ]
        },
        {
          "name": "stdout",
          "output_type": "stream",
          "text": [
            "QL 2 3636 5.447965621948242\n",
            "TS 2 3636 1.5565767288208008\n",
            "\n",
            "Number of bidders = 8\n"
          ]
        },
        {
          "name": "stderr",
          "output_type": "stream",
          "text": [
            " 10%|█         | 507/5000 [00:04<00:39, 114.31it/s]\n",
            "100%|██████████| 1000/1000 [00:01<00:00, 557.63it/s]\n"
          ]
        },
        {
          "name": "stdout",
          "output_type": "stream",
          "text": [
            "QL 2 3548 4.474369525909424\n",
            "TS 2 3548 1.8036096096038818\n",
            "\n",
            "Number of bidders = 9\n"
          ]
        },
        {
          "name": "stderr",
          "output_type": "stream",
          "text": [
            " 13%|█▎        | 636/5000 [00:07<00:53, 81.06it/s]\n",
            "100%|██████████| 1000/1000 [00:02<00:00, 478.48it/s]\n"
          ]
        },
        {
          "name": "stdout",
          "output_type": "stream",
          "text": [
            "QL 2 3679 7.874255418777466\n",
            "TS 3 5057 2.1017069816589355\n",
            "\n",
            "Number of bidders = 10\n"
          ]
        },
        {
          "name": "stderr",
          "output_type": "stream",
          "text": [
            " 14%|█▍        | 695/5000 [00:08<00:52, 82.07it/s]\n",
            "  3%|▎         | 27/1000 [00:00<00:11, 81.30it/s]\n"
          ]
        },
        {
          "name": "stdout",
          "output_type": "stream",
          "text": [
            "QL 3 4598 8.496084451675415\n",
            "TS 3 4598 0.34216856956481934\n",
            "\n",
            "Number of bidders = 11\n"
          ]
        },
        {
          "name": "stderr",
          "output_type": "stream",
          "text": [
            " 19%|█▉        | 959/5000 [00:13<00:54, 73.62it/s]\n",
            "  3%|▎         | 30/1000 [00:00<00:12, 77.57it/s]\n"
          ]
        },
        {
          "name": "stdout",
          "output_type": "stream",
          "text": [
            "QL 2 3601 13.051689624786377\n",
            "TS 3 4818 0.39583539962768555\n",
            "\n",
            "Number of bidders = 12\n"
          ]
        },
        {
          "name": "stderr",
          "output_type": "stream",
          "text": [
            " 17%|█▋        | 834/5000 [00:09<00:46, 89.20it/s]\n",
            "100%|██████████| 1000/1000 [00:02<00:00, 369.21it/s]\n"
          ]
        },
        {
          "name": "stdout",
          "output_type": "stream",
          "text": [
            "QL 2 3504 9.37776231765747\n",
            "TS 2 3504 2.723635673522949\n",
            "\n",
            "Number of bidders = 13\n"
          ]
        },
        {
          "name": "stderr",
          "output_type": "stream",
          "text": [
            " 23%|██▎       | 1165/5000 [00:16<00:53, 71.24it/s]\n",
            "  3%|▎         | 30/1000 [00:01<00:38, 25.00it/s]\n"
          ]
        },
        {
          "name": "stdout",
          "output_type": "stream",
          "text": [
            "QL 2 3554 16.396984338760376\n",
            "TS 2 3554 1.2116291522979736\n",
            "\n",
            "Number of bidders = 14\n"
          ]
        },
        {
          "name": "stderr",
          "output_type": "stream",
          "text": [
            " 16%|█▌        | 780/5000 [00:14<01:19, 53.10it/s]\n",
            "  3%|▎         | 28/1000 [00:00<00:13, 72.44it/s]\n"
          ]
        },
        {
          "name": "stdout",
          "output_type": "stream",
          "text": [
            "QL 3 4958 14.721236944198608\n",
            "TS 3 4958 0.40326786041259766\n",
            "\n",
            "Number of bidders = 15\n"
          ]
        },
        {
          "name": "stderr",
          "output_type": "stream",
          "text": [
            " 25%|██▌       | 1256/5000 [00:18<00:53, 69.37it/s]\n",
            "  3%|▎         | 31/1000 [00:00<00:11, 82.88it/s]\n"
          ]
        },
        {
          "name": "stdout",
          "output_type": "stream",
          "text": [
            "QL 2 3276 18.13275718688965\n",
            "TS 2 3665 0.3841092586517334\n",
            "\n",
            "Number of bidders = 16\n"
          ]
        },
        {
          "name": "stderr",
          "output_type": "stream",
          "text": [
            " 32%|███▏      | 1613/5000 [00:23<00:48, 70.00it/s]\n",
            "  3%|▎         | 33/1000 [00:00<00:12, 78.01it/s]\n"
          ]
        },
        {
          "name": "stdout",
          "output_type": "stream",
          "text": [
            "QL 2 3727 23.07102084159851\n",
            "TS 2 3727 0.4330627918243408\n",
            "\n",
            "Number of bidders = 17\n"
          ]
        },
        {
          "name": "stderr",
          "output_type": "stream",
          "text": [
            " 29%|██▉       | 1456/5000 [00:26<01:04, 55.23it/s]\n",
            "  2%|▏         | 22/1000 [00:00<00:17, 57.17it/s]\n"
          ]
        },
        {
          "name": "stdout",
          "output_type": "stream",
          "text": [
            "QL 3 5832 26.39755892753601\n",
            "TS 3 5832 0.3971443176269531\n",
            "\n",
            "Number of bidders = 18\n"
          ]
        },
        {
          "name": "stderr",
          "output_type": "stream",
          "text": [
            " 38%|███▊      | 1909/5000 [00:33<00:54, 56.88it/s]\n",
            "  3%|▎         | 32/1000 [00:00<00:15, 63.23it/s]\n"
          ]
        },
        {
          "name": "stdout",
          "output_type": "stream",
          "text": [
            "QL 2 3195 33.59718704223633\n",
            "TS 3 4493 0.5173296928405762\n",
            "\n",
            "Number of bidders = 19\n"
          ]
        },
        {
          "name": "stderr",
          "output_type": "stream",
          "text": [
            " 39%|███▉      | 1968/5000 [00:33<00:51, 58.43it/s]\n",
            "  3%|▎         | 31/1000 [00:00<00:14, 68.32it/s]\n"
          ]
        },
        {
          "name": "stdout",
          "output_type": "stream",
          "text": [
            "QL 2 3337 33.711878061294556\n",
            "TS 3 4269 0.4634387493133545\n",
            "\n",
            "Number of bidders = 20\n"
          ]
        },
        {
          "name": "stderr",
          "output_type": "stream",
          "text": [
            " 41%|████      | 2053/5000 [00:42<01:00, 48.55it/s]\n",
            "  2%|▏         | 24/1000 [00:00<00:16, 59.35it/s]\n"
          ]
        },
        {
          "name": "stdout",
          "output_type": "stream",
          "text": [
            "QL 2 3343 42.312952756881714\n",
            "TS 3 5332 0.4148736000061035\n",
            "\n",
            "Number of bidders = 21\n"
          ]
        },
        {
          "name": "stderr",
          "output_type": "stream",
          "text": [
            " 40%|███▉      | 1991/5000 [00:36<00:55, 54.54it/s]\n",
            "  5%|▍         | 46/1000 [00:00<00:14, 65.52it/s]\n"
          ]
        },
        {
          "name": "stdout",
          "output_type": "stream",
          "text": [
            "QL 2 3883 36.534862756729126\n",
            "TS 3 4857 0.7157561779022217\n",
            "\n",
            "Number of bidders = 22\n"
          ]
        },
        {
          "name": "stderr",
          "output_type": "stream",
          "text": [
            " 46%|████▌     | 2289/5000 [00:40<00:48, 56.06it/s]\n",
            "  3%|▎         | 33/1000 [00:00<00:14, 65.37it/s]\n"
          ]
        },
        {
          "name": "stdout",
          "output_type": "stream",
          "text": [
            "QL 2 3739 40.864224672317505\n",
            "TS 3 5080 0.5164234638214111\n",
            "\n",
            "Number of bidders = 23\n"
          ]
        },
        {
          "name": "stderr",
          "output_type": "stream",
          "text": [
            " 66%|██████▌   | 3287/5000 [01:01<00:32, 53.08it/s]\n",
            "  4%|▎         | 37/1000 [00:00<00:16, 59.18it/s]\n"
          ]
        },
        {
          "name": "stdout",
          "output_type": "stream",
          "text": [
            "QL 2 3471 61.94919037818909\n",
            "TS 3 4948 0.6351306438446045\n",
            "\n",
            "Number of bidders = 24\n"
          ]
        },
        {
          "name": "stderr",
          "output_type": "stream",
          "text": [
            " 48%|████▊     | 2379/5000 [00:49<00:54, 47.81it/s]\n",
            "  3%|▎         | 29/1000 [00:00<00:17, 55.92it/s]\n"
          ]
        },
        {
          "name": "stdout",
          "output_type": "stream",
          "text": [
            "QL 3 4600 49.80312180519104\n",
            "TS 3 4600 0.5295038223266602\n",
            "\n",
            "Number of bidders = 25\n"
          ]
        },
        {
          "name": "stderr",
          "output_type": "stream",
          "text": [
            " 60%|██████    | 3021/5000 [01:00<00:39, 49.68it/s]\n",
            "  3%|▎         | 31/1000 [00:00<00:17, 55.53it/s]\n"
          ]
        },
        {
          "name": "stdout",
          "output_type": "stream",
          "text": [
            "QL 2 3863 60.84755182266235\n",
            "TS 3 4568 0.5691301822662354\n",
            "\n",
            "Number of bidders = 26\n"
          ]
        },
        {
          "name": "stderr",
          "output_type": "stream",
          "text": [
            " 63%|██████▎   | 3169/5000 [01:08<00:39, 46.10it/s]\n",
            "  3%|▎         | 33/1000 [00:00<00:16, 58.12it/s]\n"
          ]
        },
        {
          "name": "stdout",
          "output_type": "stream",
          "text": [
            "QL 3 4145 68.77642607688904\n",
            "TS 3 4535 0.5780987739562988\n",
            "\n",
            "Number of bidders = 27\n"
          ]
        },
        {
          "name": "stderr",
          "output_type": "stream",
          "text": [
            " 73%|███████▎  | 3631/5000 [01:24<00:31, 42.79it/s]\n",
            "  4%|▍         | 41/1000 [00:00<00:16, 56.58it/s]\n"
          ]
        },
        {
          "name": "stdout",
          "output_type": "stream",
          "text": [
            "QL 2 3443 84.88167548179626\n",
            "TS 3 4800 0.7375633716583252\n",
            "\n",
            "Number of bidders = 28\n"
          ]
        },
        {
          "name": "stderr",
          "output_type": "stream",
          "text": [
            " 65%|██████▍   | 3230/5000 [01:16<00:41, 42.34it/s]\n",
            "  3%|▎         | 30/1000 [00:00<00:32, 30.29it/s]\n"
          ]
        },
        {
          "name": "stdout",
          "output_type": "stream",
          "text": [
            "QL 3 4532 76.32192921638489\n",
            "TS 3 5047 1.0004971027374268\n",
            "\n",
            "Number of bidders = 29\n"
          ]
        },
        {
          "name": "stderr",
          "output_type": "stream",
          "text": [
            " 80%|████████  | 4013/5000 [01:57<00:28, 34.07it/s]\n",
            "  5%|▍         | 49/1000 [00:00<00:17, 55.40it/s]"
          ]
        },
        {
          "name": "stdout",
          "output_type": "stream",
          "text": [
            "QL 3 4969 117.85117197036743\n",
            "TS 3 4969 0.893423318862915\n",
            "\n"
          ]
        },
        {
          "name": "stderr",
          "output_type": "stream",
          "text": [
            "\n"
          ]
        }
      ],
      "source": [
        "time_q_learning = []\n",
        "time_tabu = []\n",
        "\n",
        "for nb_bidders in range(4, 30):\n",
        "  solver = Instance(1000, nb_bidders, 40, 50, 2000)\n",
        "  print('Number of bidders =', nb_bidders)\n",
        "  start_time = time.time() \n",
        "  scores = solver.train(5000) \n",
        "  w_Q, g_Q = solver.evaluate()\n",
        "  t_Q = time.time() - start_time\n",
        "  time_q_learning.append(t_Q)\n",
        "\n",
        "  start_time = time.time() \n",
        "  history, solution = solver.run(epochs=1000, stable=10, early=10)\n",
        "  t_TS = time.time() - start_time\n",
        "  time_tabu.append(t_TS)  \n",
        "\n",
        "  print('QL', len(w_Q), g_Q, t_Q)\n",
        "  print('TS', len(solution[0]), solution[1], t_TS)\n",
        "  print()"
      ]
    },
    {
      "cell_type": "code",
      "execution_count": 185,
      "metadata": {
        "colab": {
          "base_uri": "https://localhost:8080/",
          "height": 281
        },
        "id": "gxhY_VDk4up9",
        "outputId": "e4c95488-18d1-4773-bcb5-2005cd465405"
      },
      "outputs": [
        {
          "data": {
            "image/png": "[encoded data removed]",
            "text/plain": [
              "<Figure size 432x288 with 1 Axes>"
            ]
          },
          "metadata": {
            "needs_background": "light"
          },
          "output_type": "display_data"
        }
      ],
      "source": [
        "plt.scatter(range(4, 30), time_q_learning, color='orange', label='QLearning')\n",
        "plt.scatter(range(4, 30), time_tabu, color='purple', label='Tabu search')\n",
        "plt.legend() \n",
        "plt.title('Exec time comparison')\n",
        "plt.show() "
      ]
    },
    {
      "cell_type": "code",
      "execution_count": 186,
      "metadata": {
        "colab": {
          "base_uri": "https://localhost:8080/",
          "height": 281
        },
        "id": "VxHlX4aWCsfE",
        "outputId": "35a1c523-59b2-4781-bc74-0499538316af"
      },
      "outputs": [
        {
          "data": {
            "image/png": "[encoded data removed]",
            "text/plain": [
              "<Figure size 432x288 with 1 Axes>"
            ]
          },
          "metadata": {
            "needs_background": "light"
          },
          "output_type": "display_data"
        }
      ],
      "source": [
        "plt.plot(range(4, 30), time_q_learning, color='orange', label='QLearning')\n",
        "plt.plot(range(4, 30), time_tabu, color='purple', label='Tabu search')\n",
        "plt.legend() \n",
        "plt.title('Exec time comparison')\n",
        "plt.show() "
      ]
    }
  ],
  "metadata": {
    "colab": {
      "collapsed_sections": [
        "Dg3POAWISxKF",
        "S9chMy2-TVnn",
        "X4uHGxqDUpla",
        "H9z54uFJUrvW",
        "YM4UxjUvUw-w",
        "B7Oeiq2sIGb5",
        "F6S0efVCzp_h",
        "o2s47aYE-q-z",
        "4bi7_XOEPuZc",
        "wUKtIRhz7dba",
        "vzirLkjN7luW",
        "qviBpAd99yae",
        "ssihDQxXQlvY",
        "EVfQRekV5wBp",
        "v41xFgdieS64",
        "OMVUwy7PSl4z",
        "S3VRgxjvMlwT",
        "UOJ4yAEpNHWB"
      ],
      "name": "E_Com.ipynb",
      "provenance": []
    },
    "kernelspec": {
      "display_name": "Python 3",
      "name": "python3"
    },
    "language_info": {
      "name": "python"
    }
  },
  "nbformat": 4,
  "nbformat_minor": 0
}
